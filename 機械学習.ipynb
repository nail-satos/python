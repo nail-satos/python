{
 "cells": [
  {
   "cell_type": "markdown",
   "metadata": {},
   "source": [
    "---\n",
    "**Markdown記法**  \n",
    "　[メモ書きやドキュメント作成に便利な「Markdown記法」を使ってみよう : ビジネスとIT活用に役立つ情報](https://www.asobou.co.jp/blog/bussiness/markdown)\n",
    "\n",
    "---\n",
    "**scikit-learn**  \n",
    "　Anaconda Navigator で **scikit-learn** をインストール（ついでにnumpyも入ったようだ）  \n",
    "　[TensorFlowをWindowsにインストール Python初心者でも簡単だった件 - Qiita](https://qiita.com/FukuharaYohei/items/d8f82c827e0bae70096a#21-tensorflow%E4%BB%AE%E6%83%B3%E7%92%B0%E5%A2%83%E4%BD%9C%E6%88%90)\n"
   ]
  },
  {
   "cell_type": "code",
   "execution_count": 5,
   "metadata": {},
   "outputs": [
    {
     "name": "stdout",
     "output_type": "stream",
     "text": [
      "[[0, 0], [1, 0], [0, 1], [1, 1]] の予測結果： [0 0 0 1]\n",
      "正解率 =  1.0\n"
     ]
    }
   ],
   "source": [
    "### p62 and.pyより ###\n",
    "# ライブラリのインポート --- (*1)\n",
    "from sklearn.svm import LinearSVC\n",
    "from sklearn.metrics import accuracy_score\n",
    "\n",
    "# 学習用のデータと結果の準備 --- (*2)\n",
    "# X , Y\n",
    "learn_data = [[0,0], [1,0], [0,1], [1,1]]\n",
    "# X and Y\n",
    "learn_label = [0, 0, 0, 1]\n",
    "\n",
    "# アルゴリズムの指定(LinierSVC) --- (*3)\n",
    "clf = LinearSVC()\n",
    "\n",
    "# 学習用データと結果の学習  --- (*4)\n",
    "clf.fit(learn_data, learn_label)\n",
    "\n",
    "# テストデータによる予測 --- (*5)\n",
    "test_data = [[0,0], [1,0], [0,1], [1,1]]\n",
    "test_label = clf.predict(test_data)\n",
    "\n",
    "# 予測結果の評価 --- (*6)\n",
    "print(test_data , \"の予測結果：\" ,  test_label)\n",
    "print(\"正解率 = \" , accuracy_score([0, 0, 0, 1], test_label))"
   ]
  },
  {
   "cell_type": "markdown",
   "metadata": {},
   "source": [
    "---\n",
    "**アルゴリズム・チートシート**  \n",
    "　[【機械学習初心者向け】scikit-learn「アルゴリズム・チートシート」の全手法を実装・解説してみた - Qiita](https://qiita.com/sugulu/items/e3fc39f2e552f2355209)\n"
   ]
  },
  {
   "cell_type": "code",
   "execution_count": 5,
   "metadata": {},
   "outputs": [
    {
     "name": "stdout",
     "output_type": "stream",
     "text": [
      "[[0, 0], [1, 0], [0, 1], [1, 1]] の予測結果： [1 1 1 1]\n",
      "正解率 =  0.5\n"
     ]
    }
   ],
   "source": [
    "### p65 xor.pyより ###\n",
    "# ライブラリのインポート\n",
    "from sklearn.svm import LinearSVC\n",
    "from sklearn.metrics import accuracy_score\n",
    "\n",
    "# 学習用のデータと結果の準備\n",
    "# X , Y\n",
    "learn_data = [[0,0], [1,0], [0,1], [1,1]]\n",
    "# X xor Y\n",
    "learn_label = [0, 1, 1, 0]  #(*) xor用のラベルに変更\n",
    "\n",
    "# アルゴリズムの指定(LinierSVC)\n",
    "clf = LinearSVC()\n",
    "\n",
    "# 学習用データと結果の学習 \n",
    "clf.fit(learn_data, learn_label)\n",
    "\n",
    "# テストデータによる予測\n",
    "test_data = [[0,0], [1,0], [0,1], [1,1]]\n",
    "test_label = clf.predict(test_data)\n",
    "\n",
    "# テスト結果の評価\n",
    "print(test_data , \"の予測結果：\" ,  test_label)\n",
    "print(\"正解率 = \" , accuracy_score([0, 1, 1, 0], test_label))  #(*) xor用のラベルに変更"
   ]
  },
  {
   "cell_type": "markdown",
   "metadata": {},
   "source": [
    "---\n",
    "LinearSVCでは、1.0が出ないので、KNeighborsClassifierで検証する  \n"
   ]
  },
  {
   "cell_type": "code",
   "execution_count": 22,
   "metadata": {},
   "outputs": [
    {
     "name": "stdout",
     "output_type": "stream",
     "text": [
      "[[0, 0], [1, 0], [0, 1], [1, 1]] の予測結果： [0 1 1 0]\n",
      "正解率 =  1.0\n"
     ]
    }
   ],
   "source": [
    "### p66 xor2.pyより ###\n",
    "# ライブラリのインポート --- (*1)\n",
    "from sklearn.neighbors import KNeighborsClassifier\n",
    "from sklearn.metrics import accuracy_score\n",
    "\n",
    "# 学習用のデータと結果の準備\n",
    "# X , Y\n",
    "learn_data = [[0,0], [1,0], [0,1], [1,1]]\n",
    "# X xor Y\n",
    "learn_label = [0, 1, 1, 0]  #(*) xor用のラベルに変更\n",
    "\n",
    "# アルゴリズムの指定(KNeighborsClassifier) --- (*2)\n",
    "clf = KNeighborsClassifier(n_neighbors = 1)\n",
    "\n",
    "# 学習用データと結果の学習 \n",
    "clf.fit(learn_data, learn_label)\n",
    "\n",
    "# テストデータによる予測\n",
    "test_data = [[0,0], [1,0], [0,1], [1,1]]\n",
    "test_label = clf.predict(test_data)\n",
    "\n",
    "# テスト結果の評価\n",
    "print(test_data , \"の予測結果：\" ,  test_label)\n",
    "print(\"正解率 = \" , accuracy_score([0, 1, 1, 0], test_label))  #(*) xor用のラベルに変更"
   ]
  },
  {
   "cell_type": "markdown",
   "metadata": {},
   "source": [
    "---\n",
    "**K近傍法 = KNN(K Nearest Neighbor)**  \n",
    "　[k近傍法 - Wikipedia](https://ja.wikipedia.org/wiki/K%E8%BF%91%E5%82%8D%E6%B3%95)  \n",
    "\n",
    "　KNNでアヤメの分類。n_neighborsパラメータの調整方法もあり、K=1～90までをグラフ化している。  \n",
    "　[K近傍法(多クラス分類) - Qiita](https://qiita.com/yshi12/items/26771139672d40a0be32)  \n",
    "　→ここから少し寄り道して、上記の手法でアヤメの分類に挑戦してみよう↓"
   ]
  },
  {
   "cell_type": "code",
   "execution_count": null,
   "metadata": {},
   "outputs": [],
   "source": []
  },
  {
   "cell_type": "code",
   "execution_count": 25,
   "metadata": {},
   "outputs": [],
   "source": [
    "# sklearnでirisのデータセットを用意。\n",
    "from sklearn.datasets import load_iris\n",
    "iris= load_iris() # irisデータ取得\n",
    "X = iris.data     # 説明変数(クラス推定用変数)\n",
    "Y = iris.target   # 目的変数(クラス値)"
   ]
  },
  {
   "cell_type": "code",
   "execution_count": 26,
   "metadata": {},
   "outputs": [
    {
     "ename": "NameError",
     "evalue": "name 'DataFrame' is not defined",
     "output_type": "error",
     "traceback": [
      "\u001b[1;31m---------------------------------------------------------------------------\u001b[0m",
      "\u001b[1;31mNameError\u001b[0m                                 Traceback (most recent call last)",
      "\u001b[1;32m<ipython-input-26-1836c7404010>\u001b[0m in \u001b[0;36m<module>\u001b[1;34m\u001b[0m\n\u001b[0;32m      1\u001b[0m \u001b[1;31m# irisのデータをDataFrameに変換\u001b[0m\u001b[1;33m\u001b[0m\u001b[1;33m\u001b[0m\u001b[1;33m\u001b[0m\u001b[0m\n\u001b[1;32m----> 2\u001b[1;33m \u001b[0miris_data\u001b[0m \u001b[1;33m=\u001b[0m \u001b[0mDataFrame\u001b[0m\u001b[1;33m(\u001b[0m\u001b[0mX\u001b[0m\u001b[1;33m,\u001b[0m \u001b[0mcolumns\u001b[0m\u001b[1;33m=\u001b[0m\u001b[1;33m[\u001b[0m\u001b[1;34m'Sepal Length'\u001b[0m\u001b[1;33m,\u001b[0m \u001b[1;34m'Sepal Width'\u001b[0m\u001b[1;33m,\u001b[0m \u001b[1;34m'Petal Length'\u001b[0m\u001b[1;33m,\u001b[0m \u001b[1;34m'Petal Width'\u001b[0m\u001b[1;33m]\u001b[0m\u001b[1;33m)\u001b[0m\u001b[1;33m\u001b[0m\u001b[1;33m\u001b[0m\u001b[0m\n\u001b[0m\u001b[0;32m      3\u001b[0m \u001b[0miris_target\u001b[0m \u001b[1;33m=\u001b[0m \u001b[0mDataFrame\u001b[0m\u001b[1;33m(\u001b[0m\u001b[0mY\u001b[0m\u001b[1;33m,\u001b[0m \u001b[0mcolumns\u001b[0m\u001b[1;33m=\u001b[0m\u001b[1;33m[\u001b[0m\u001b[1;34m'Species'\u001b[0m\u001b[1;33m]\u001b[0m\u001b[1;33m)\u001b[0m\u001b[1;33m\u001b[0m\u001b[1;33m\u001b[0m\u001b[0m\n",
      "\u001b[1;31mNameError\u001b[0m: name 'DataFrame' is not defined"
     ]
    }
   ],
   "source": [
    "# irisのデータをDataFrameに変換\n",
    "iris_data = DataFrame(X, columns=['Sepal Length', 'Sepal Width', 'Petal Length', 'Petal Width'])\n",
    "iris_target = DataFrame(Y, columns=['Species'])"
   ]
  }
 ],
 "metadata": {
  "kernelspec": {
   "display_name": "Python 3",
   "language": "python",
   "name": "python3"
  },
  "language_info": {
   "codemirror_mode": {
    "name": "ipython",
    "version": 3
   },
   "file_extension": ".py",
   "mimetype": "text/x-python",
   "name": "python",
   "nbconvert_exporter": "python",
   "pygments_lexer": "ipython3",
   "version": "3.7.3"
  }
 },
 "nbformat": 4,
 "nbformat_minor": 2
}
