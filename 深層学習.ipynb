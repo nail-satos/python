{
 "cells": [
  {
   "cell_type": "markdown",
   "metadata": {},
   "source": [
    "---\n",
    "## TensorFlow\n",
    "**環境構築**  \n",
    "　これはpipでやっているので危険かも。Navigatorの機能でインストールした方が無難？  \n",
    "　[Windows版Anaconda上でTensorFlow ＋JupyterNotebook +Matplotlib の環境構築（2017年8月版） - Qiita](https://qiita.com/isaac-otao/items/cecfb3efb7d9ccddf922)\n",
    "\n",
    "---\n",
    "　2019/01時点ではPython3.6でやっておくほうが無難  \n",
    "　[MacOS Mojave &amp; Python3.7 でTensorflow環境構築しようとして詰まった話 - Qiita](https://qiita.com/nahshi/items/fcf4898f7c45f11a5c63)\n",
    " "
   ]
  },
  {
   "cell_type": "markdown",
   "metadata": {},
   "source": [
    "---\n",
    "### Keras\n",
    "　Kerasの説明から実践まで一連の流れがあるので、やってみたい。  \n",
    "　[ディープラーニング実践入門 〜 Kerasライブラリで画像認識をはじめよう！ - エンジニアHub｜若手Webエンジニアのキャリアを考える！](https://employment.en-japan.com/engineerhub/entry/2017/04/28/110000)"
   ]
  }
 ],
 "metadata": {
  "kernelspec": {
   "display_name": "Python 3",
   "language": "python",
   "name": "python3"
  },
  "language_info": {
   "codemirror_mode": {
    "name": "ipython",
    "version": 3
   },
   "file_extension": ".py",
   "mimetype": "text/x-python",
   "name": "python",
   "nbconvert_exporter": "python",
   "pygments_lexer": "ipython3",
   "version": "3.7.0"
  }
 },
 "nbformat": 4,
 "nbformat_minor": 2
}
