{
 "cells": [
  {
   "cell_type": "code",
   "execution_count": 176,
   "metadata": {},
   "outputs": [
    {
     "data": {
      "text/plain": [
       "array([0, 0, 0, 0])"
      ]
     },
     "execution_count": 176,
     "metadata": {},
     "output_type": "execute_result"
    }
   ],
   "source": [
    "from sklearn.svm import LinearSVC\n",
    "\n",
    "sk = LinearSVC()\n",
    "learn_data = [ [0,0],[1,0],[0,1],[1,1] ]\n",
    "learn_label = [0,1,1,0]\n",
    "\n",
    "sk.fit(learn_data, learn_label)\n",
    "sk.predict([ [0,0],[1,0],[0,1],[1,1] ])"
   ]
  },
  {
   "cell_type": "code",
   "execution_count": 238,
   "metadata": {},
   "outputs": [
    {
     "data": {
      "text/plain": [
       "array([0])"
      ]
     },
     "execution_count": 238,
     "metadata": {},
     "output_type": "execute_result"
    }
   ],
   "source": [
    "from sklearn.neighbors import KNeighborsClassifier\n",
    "sk = KNeighborsClassifier(n_neighbors = 1)\n",
    "\n",
    "learn_data = [ [0,0],[1,0],[0,1],[1,1] ]\n",
    "learn_label = [0,1,1,0]\n",
    "\n",
    "sk.fit(learn_data, learn_label)\n",
    "sk.predict([ [0,0],[1,0],[0,1],[1,1] ])\n",
    "sk.predict([ [3,10] ])\n"
   ]
  }
 ],
 "metadata": {
  "kernelspec": {
   "display_name": "Python 3",
   "language": "python",
   "name": "python3"
  },
  "language_info": {
   "codemirror_mode": {
    "name": "ipython",
    "version": 3
   },
   "file_extension": ".py",
   "mimetype": "text/x-python",
   "name": "python",
   "nbconvert_exporter": "python",
   "pygments_lexer": "ipython3",
   "version": "3.7.3"
  }
 },
 "nbformat": 4,
 "nbformat_minor": 2
}
