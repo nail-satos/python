{
 "cells": [
  {
   "cell_type": "markdown",
   "metadata": {},
   "source": [
    "---\n",
    "### AWS\n",
    "\n",
    "**AWSチュートリアル**  \n",
    "\n",
    "　[コストを下げろと言われたら~AWSでまずやること~ - Qiita](https://qiita.com/gucchon/items/33731a18e5b457f2bd34)  \n",
    "　[Cost ExplorerでAWSの利用状況を把握する - Qiita](https://qiita.com/kobarasukimaro/items/58037588028653001595)  \n",
    "\n",
    "　AWSアカウントの作成から、アカウント管理、EC2作成までのハンズオン  \n",
    "　[AWS(クラウド)超入門 第1回 - Qiita](https://qiita.com/modokkin/items/fc1280eda4356816a3f9)  \n",
    "\n",
    "　[アマゾン ウェブ サービス (AWS) 使用の 10 分間チュートリアル](https://aws.amazon.com/jp/getting-started/tutorials/)\n",
    "\n",
    "**AWS+Ubuntu+デスクトップ**  \n",
    "　AWS Cloud9も良いのですがこの話はまたいつか。  \n",
    "　結論から書くと意外とイケてる。。。ような気がする  \n",
    "　[AWS EC2でデスクトップ環境をつくる ～ Ubuntu Server 18.04 LTS GNOME編～ - Qiita](https://qiita.com/osugizmo/items/21578272ae2db05ab001)  \n",
    "\n",
    "　[WindowsからAmazon EC2 Ubuntu 16.04 Desktopに接続する](https://aws.amazon.com/jp/premiumsupport/knowledge-center/connect-to-ubuntu-1604-windows/)  \n",
    "　[AWS EC2のUbuntuにWindowsからリモートデスクトップで接続し、Ganacheを起動する手順 - Qiita](https://qiita.com/tmikada/items/be27df3affc56eeffd8b)\n",
    "\n",
    "**Ubuntu+Anaconda**  \n",
    "　Ubuntuのverは不明。Python 3.7 Versionをインストール  \n",
    "　[Ubuntu で Anaconda のインストール](https://www.kunihikokaneko.com/dblab/linuxsoft/anaconda.html)  \n",
    "　[【TensorFlow/Chainer挑戦者必見】Anacondaのインストール方法 | 侍エンジニア塾ブログ | プログラミング入門者向け学習情報サイト](https://www.sejuku.net/blog/43671#Ubuntu)\n",
    "\n",
    "　ターミナル（端末）からanaconda-navigatorと入力  \n",
    "　[ANACONDA NAVIGATORの起動方法 - IT連合 | C-Wiki](https://jpn.itlibra.com/article?id=10830)\n",
    "\n",
    "　[AWSにpythonとjupyter labをさっくり導入する - データ分析系男子。](http://wanko-sato.hatenablog.com/entry/2018/09/09/163043)  \n",
    "　[Amazon Web ServiceでJupyter notebookを立てるまでのメモ - Qiita](https://qiita.com/t12968yy/items/b6c14f48638060916824)\n",
    " \n",
    "**AWS+Anaconda**  \n",
    "　そもそもjupyter をAWSに入れればいいんじゃねと思った時の備忘録。  \n",
    "　CentOS7、Anaconda3-5.2.0、Python3.6.5（Anaconda経由でインストール）  \n",
    "　[AWS に Anaconda + Python3 + jupyter notebook + keras/tensorflow環境導入 - 備忘log](https://mashi-prog.hatenablog.com/entry/2018/06/12/000504)\n",
    "\n",
    "**起動・停止のスクリプト化**\n",
    "　[AWS(EC2)でJupyter Notebookを使う際の面倒ごとを全部自動化する - Qiita](https://qiita.com/nicco_mirai/items/7a4e3e912e2d3e0fb6ad)  \n",
    "\n",
    "**AWS上でGPUを使う**  \n",
    "　[AWSでGPUを使った機械学習 - Qiita](https://qiita.com/KoronHM/items/24d7f79ea6417ab78621)  \n",
    "\n",
    "**Cloud9**  \n",
    "　[【機械学習】AWS Cloud9上でJupyter Notebookの環境構築の手順をまとめた - データサイエンティストハトリのブログ](https://www.torikun.com/entry/aws-cloud9-jupyter-notebook)  "
   ]
  },
  {
   "cell_type": "markdown",
   "metadata": {},
   "source": [
    "---\n",
    "### Docker\n",
    "\n",
    "**Docker**  \n",
    "　[Docker入門（第一回）～Dockerとは何か、何が良いのか～ | さくらのナレッジ](https://knowledge.sakura.ad.jp/13265/)  \n",
    "\n",
    "**Docker＋機械学習**  \n",
    "　いざ、実際に大量の画像データなどを使ってモデルを生成しよう！となると、  \n",
    "　クラウドの強いインスタンスを使うのが便利  \n",
    "　[機械学習を勉強するときはDockerを使うと便利 - あさのひとりごと](http://dr-asa.hatenablog.com/entry/2017/08/21/185301)  \n",
    "\n",
    "\n",
    "**Docker＋AWS＋機械学習**\n",
    "\n",
    "　Amazon EC2 の p3 インスタンスで Tesla V100 が使えるようになったので、どれだけ速いのか試してみたかった  \n",
    "　[Ubuntu 18.04 に NVIDIA Docker 環境構築 (2018年秋) - Qiita](https://qiita.com/hoto17296/items/80ba9c23416991757ab7)  \n",
    "\n",
    "　機械学習の環境を、aws EC2に構築。docker を使って簡易的に構築すると少し楽。  \n",
    "　[機械学習の環境を、aws EC2 のdocker へ構築する。 - knaka Tech-Blog](https://knaka0209.hatenablog.com/entry/aws-docker-ML)  \n",
    " \n",
    "\n"
   ]
  },
  {
   "cell_type": "markdown",
   "metadata": {},
   "source": [
    "---\n",
    "### Anaconda\n",
    "**Navigator**  \n",
    "　[GUI でここまでできる！ Anaconda Navigator で Python 環境構築 - slideship.com](https://slideship.com/users/@iktakahiro/docs/2018/01/EaHU5sR5CTwEJcxG1RqGum/)\n",
    " \n",
    "**仮想環境**  \n",
    "　[Anacondaを使った仮想環境を保存・再構築、複製 - Qiita](https://qiita.com/ozaki_physics/items/13466d6d1954a0afeb3b)  \n",
    "　[Anacondaの環境をコピーする - Qiita](https://qiita.com/isaac-otao/items/45d3d21b973767bd1ac1)  \n",
    " "
   ]
  },
  {
   "cell_type": "markdown",
   "metadata": {},
   "source": [
    "---\n",
    "### Jupyter  \n",
    "**Markdown記法**  \n",
    "　[メモ書きやドキュメント作成に便利な「Markdown記法」を使ってみよう : ビジネスとIT活用に役立つ情報](https://www.asobou.co.jp/blog/bussiness/markdown)\n",
    "\n",
    "**Jupyter Notebook**  \n",
    "　ターミナルから「conda create -n 新しい環境名 anaconda」だけでOK  \n",
    "　[Windows環境でのJupyter Notebookのブラウザ指定 - Qiita](https://qiita.com/acknpop/items/4e5b57e38780068a9155)  \n",
    "　[JupyterLabで開発しながら.pyファイルを作りたい - もちっとメモ](http://t-n-clark.hatenadiary.jp/entry/2018/04/16/113000)\n",
    " "
   ]
  },
  {
   "cell_type": "markdown",
   "metadata": {},
   "source": [
    "---\n",
    "### Git\n",
    "**Git**  \n",
    "　[GitHubデスクトップで何ができるのか？](https://www.dev-ops.jp/blog/github-desktop)\n",
    "\n",
    "**GitHub上でのレンダリング**  \n",
    "　インラインでグラフを表示するために、1行目に %matplotlib inline  \n",
    "　[Jupyter NotebookをGitHub上で公開する - abcdefg.....](http://pppurple.hatenablog.com/entry/2016/06/11/194713)  \n",
    "\n",
    "**Private**  \n",
    "　[GitHubが無料でプライベートリポジトリを無制限に作れるようになったぞ☆ - Qiita](https://qiita.com/wagase/items/4ed3e9998848cfa733be)  \n",
    "　[Githubのプライベートリポジトリに他のユーザーを招待する方法](https://code-schools.com/github-invite/)  \n",
    "\n",
    "\n"
   ]
  },
  {
   "cell_type": "markdown",
   "metadata": {},
   "source": [
    "---\n",
    "### Hadoop\n",
    "\n",
    "**チュートリアル**  \n",
    "　[Hadoop入門に最適なチュートリアルサイトまとめ・比較7つ-入門情報ならMayonez](https://mayonez.jp/topic/1178)  \n",
    "\n"
   ]
  },
  {
   "cell_type": "markdown",
   "metadata": {},
   "source": [
    "---\n",
    "### Slack\n",
    "\n",
    "**通話**\n",
    "　[Slack で通話する – Slack](https://get.slack.help/hc/ja/articles/216771908-Slack-%E3%81%A7%E9%80%9A%E8%A9%B1%E3%81%99%E3%82%8B)  \n",
    "\n"
   ]
  }
 ],
 "metadata": {
  "kernelspec": {
   "display_name": "Python 3",
   "language": "python",
   "name": "python3"
  },
  "language_info": {
   "codemirror_mode": {
    "name": "ipython",
    "version": 3
   },
   "file_extension": ".py",
   "mimetype": "text/x-python",
   "name": "python",
   "nbconvert_exporter": "python",
   "pygments_lexer": "ipython3",
   "version": "3.7.3"
  }
 },
 "nbformat": 4,
 "nbformat_minor": 2
}
