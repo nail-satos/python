{
 "cells": [
  {
   "cell_type": "markdown",
   "metadata": {},
   "source": [
    "---\n",
    "### 前処理／後処理\n",
    "\n",
    "　[PandasとNumPyの違いと使い分け方 - DeepAge](https://deepage.net/features/pandas-numpy.html)  \n",
    "　[データ分析で頻出のPandas基本操作 - Qiita](https://qiita.com/ysdyt/items/9ccca82fc5b504e7913a)  \n",
    "\n"
   ]
  },
  {
   "cell_type": "markdown",
   "metadata": {},
   "source": [
    "---\n",
    "### チューニング\n",
    "\n",
    "**パラメタチューニング**  \n",
    "　[AIの民主化を推進するMatrixFlowとGAUSS社と業務提携ー機械学習アルゴリズムの選定・パラメータチューニングを自動化するサービス「AutoFlow」を提供ー | 人工知能ニュースメディア AINOW](http://ainow.ai/2019/01/31/162254/)  \n",
    "\n",
    "**ファインチューニング**  \n",
    "　既存のモデルの再利用して、新しいモデルを構築する手法。転移学習(transfer learning)とも  \n",
    "　AWSのGPU Computeインスタンス(p2やp3)でも使いまわせるようにDockerize  \n",
    "　[ファインチューニングをやってみた - WonderPlanet Tech Blog](http://tech.wonderpla.net/entry/2017/12/26/110000)  \n",
    "\n",
    "\n"
   ]
  },
  {
   "cell_type": "markdown",
   "metadata": {},
   "source": [
    "---\n",
    "### 可視化（ビジュアライズ）\n",
    "　\n",
    "　[chainer/chainerrl-visualizer](https://github.com/chainer/chainerrl-visualizer)　　"
   ]
  },
  {
   "cell_type": "markdown",
   "metadata": {},
   "source": [
    "---\n",
    "### 学習済みモデル\n",
    "\n",
    "**AWSのユースケース**  \n",
    "　[アマゾン ウェブ サービス (AWS) のユースケースの開始方法](https://aws.amazon.com/jp/getting-started/use-cases/?awsf.getting-started-content=use-case%23ml)  \n",
    "\n"
   ]
  },
  {
   "cell_type": "markdown",
   "metadata": {},
   "source": [
    "---\n",
    "### 顔認識\n",
    "　[はじめてのアニメ顔認識 with Chainer - Qiita](https://qiita.com/homulerdora/items/9a9af1481bf63470731a)  \n",
    "　[chainerのバージョンが変わって動かなくなったりしているので、修正したコードをGithubにアップしました。](https://github.com/homuler/pyon2-detector/)  \n"
   ]
  },
  {
   "cell_type": "markdown",
   "metadata": {},
   "source": [
    "---\n",
    "### 自然言語処理（NLP）\n",
    "\n",
    "**データセット**  \n",
    "　英語\n",
    "　[機械学習に使えるチャットボットデータセット・ベスト15 | Gengo AI](https://gengo.ai/ja/datasets/15-best-chatbot-datasets-for-machine-learning/)  \n",
    "\n",
    "**プログラム**  \n",
    "　コードなど掲載されているが難易度高め  \n",
    "　[チャットボットにAI（機械学習・ディープラーニング）とNLPを応用する方法 | SPJ](https://spjai.com/chatbot-deep-learning-nlp/)  \n",
    "\n",
    "　Mecabなど。初心者向け。はじめの一歩的な。  \n",
    "　[【初心者でもわかる】pythonによる簡易自然言語処理(NLP) 超入門【ネガポジ判定】 | Aidemy Blog](https://blog.aidemy.net/entry/2017/06/18/161704)  \n",
    " \n",
    "　gensimとMeCabによる統計的潜在意味解析。ある店に似ている他店を口コミをして探す  \n",
    "　[【Python】自然言語処理でラーメン屋を分類してみる - Qiita](https://qiita.com/naotaka1128/items/87d717961bd0c34e7a64) \n",
    " \n",
    "　Mecab/Cabochaに、日本語を解析するライブラリ(jpParser)を使用。mongoDBにデータを格納  \n",
    "　[pythonで日本語文の感情分析（＋言語処理の基礎） - Qiita() ](https://qiita.com/matsu0228/items/0323f299d03f5b07efdc)  \n",
    " \n",
    " "
   ]
  },
  {
   "cell_type": "markdown",
   "metadata": {},
   "source": [
    "---\n"
   ]
  },
  {
   "cell_type": "code",
   "execution_count": 3,
   "metadata": {},
   "outputs": [
    {
     "name": "stdout",
     "output_type": "stream",
     "text": [
      "ああ\n"
     ]
    }
   ],
   "source": [
    "print('ああ')"
   ]
  }
 ],
 "metadata": {
  "kernelspec": {
   "display_name": "Python 3",
   "language": "python",
   "name": "python3"
  },
  "language_info": {
   "codemirror_mode": {
    "name": "ipython",
    "version": 3
   },
   "file_extension": ".py",
   "mimetype": "text/x-python",
   "name": "python",
   "nbconvert_exporter": "python",
   "pygments_lexer": "ipython3",
   "version": "3.7.3"
  }
 },
 "nbformat": 4,
 "nbformat_minor": 2
}
