{
 "cells": [
  {
   "cell_type": "code",
   "execution_count": 1,
   "metadata": {},
   "outputs": [
    {
     "name": "stderr",
     "output_type": "stream",
     "text": [
      "Using TensorFlow backend.\n"
     ]
    }
   ],
   "source": [
    "from keras.datasets import mnist\n",
    "(x_train, y_train), (x_test, y_test) = mnist.load_data()"
   ]
  },
  {
   "cell_type": "code",
   "execution_count": 2,
   "metadata": {},
   "outputs": [],
   "source": [
    "import keras\n",
    "import keras.utils\n",
    "from keras import utils as np_utils\n",
    "\n",
    "#一次元配列に変換\n",
    "x_train_reshape = x_train.reshape(60000, 784)\n",
    "x_test_reshape = x_test.reshape(10000, 784)\n",
    "\n",
    "#正規化\n",
    "x_train_reshape_std = x_train_reshape.astype('float32') / 255\n",
    "x_test_reshape_std = x_test_reshape.astype('float32') / 255\n",
    "\n",
    "#one-hotベクトルに変換\n",
    "y_train = np_utils.to_categorical(y_train, 10)\n",
    "y_test = np_utils.to_categorical(y_test, 10)"
   ]
  },
  {
   "cell_type": "code",
   "execution_count": 3,
   "metadata": {},
   "outputs": [
    {
     "name": "stdout",
     "output_type": "stream",
     "text": [
      "WARNING:tensorflow:From C:\\Users\\awaji\\Anaconda3\\lib\\site-packages\\tensorflow\\python\\framework\\op_def_library.py:263: colocate_with (from tensorflow.python.framework.ops) is deprecated and will be removed in a future version.\n",
      "Instructions for updating:\n",
      "Colocations handled automatically by placer.\n"
     ]
    }
   ],
   "source": [
    "from keras.models import Sequential\n",
    "from keras.layers import Dense, Activation , Dropout\n",
    "model = Sequential()\n",
    "model.add(Dense(units=4, input_dim=784))\n",
    "model.add(Activation('linear'))\n",
    "model.add(Dense(units=10))\n",
    "model.add(Activation('linear'))\n",
    "\n",
    "\n",
    "model.compile('rmsprop', 'categorical_crossentropy', metrics=['accuracy'])"
   ]
  },
  {
   "cell_type": "code",
   "execution_count": 4,
   "metadata": {},
   "outputs": [
    {
     "name": "stdout",
     "output_type": "stream",
     "text": [
      "WARNING:tensorflow:From C:\\Users\\awaji\\Anaconda3\\lib\\site-packages\\tensorflow\\python\\ops\\math_ops.py:3066: to_int32 (from tensorflow.python.ops.math_ops) is deprecated and will be removed in a future version.\n",
      "Instructions for updating:\n",
      "Use tf.cast instead.\n",
      "Epoch 1/1\n",
      "60000/60000 [==============================] - 6s 97us/step - loss: 7.9106 - acc: 0.1441\n"
     ]
    },
    {
     "data": {
      "text/plain": [
       "<keras.callbacks.History at 0x1a408830828>"
      ]
     },
     "execution_count": 4,
     "metadata": {},
     "output_type": "execute_result"
    }
   ],
   "source": [
    "#教師あり学習の実行\n",
    "model.fit(x_train_reshape_std ,y_train ,epochs=1)"
   ]
  },
  {
   "cell_type": "code",
   "execution_count": 5,
   "metadata": {},
   "outputs": [
    {
     "data": {
      "text/html": [
       "\n",
       "    使い方：<BR>\n",
       "    黄色の範囲内にマウスでに数字を書きます<BR>\n",
       "    <canvas id=\"numArea\" height=\"256px\" width=\"256px\" \n",
       "    style=\"border: 3px double #999999; background-color:yellow;\"></canvas>\n",
       "    <BR>\n",
       "\n",
       "    <button id=\"save\">画面クリア</button>\n",
       "    <BR>\n",
       "    <script>\n",
       "        var kernel = IPython.notebook.kernel;\n",
       "\n",
       "        var currentX ;\n",
       "        var currentY ;\n",
       "        var isMoving = 0;\n",
       "\n",
       "        var imgDecoded \n",
       "            = 'imgArray = np.asarray(Image.open(BytesIO(base64.b64decode(imgDataSp))))[:,:,3]'\n",
       "        var save = document.getElementById(\"save\");\n",
       "        var numArea = document.getElementById(\"numArea\");\n",
       "        var context;\n",
       "        if (numArea.getContext(\"2d\")){\n",
       "            context = numArea.getContext(\"2d\");\n",
       "        }\n",
       "\n",
       "        save.addEventListener(\"click\", function(){\n",
       "            context.clearRect(0, 0, 256, 256);\n",
       "            kernel.execute(\"imgData = '\" + numArea.toDataURL() + \"'\");\n",
       "            kernel.execute('imgDataSp = imgData.split(\",\")[-1]');\n",
       "            kernel.execute('imgArray = '+imgDecoded);\n",
       "        });\n",
       "\n",
       "        numArea.addEventListener(\"mouseup\", end, false);\n",
       "        numArea.addEventListener(\"mousemove\", move, false);\n",
       "        numArea.addEventListener(\"mousedown\", start, false);\n",
       "\n",
       "        function end(evt){\n",
       "            if(isMoving === 0){\n",
       "               context.lineTo(currentX-1, currentY-1);\n",
       "               context.lineWidth = 5;\n",
       "               context.stroke();\n",
       "\n",
       "            }\n",
       "            isMoving = 0;\n",
       "            \n",
       "            {\n",
       "                kernel.execute(\"imgData = '\" + numArea.toDataURL() + \"'\");\n",
       "                kernel.execute('imgDataSp = imgData.split(\",\")[-1]');\n",
       "                kernel.execute('imgArray = '+imgDecoded);\n",
       "            }\n",
       "        }\n",
       "\n",
       "        function move(evt){\n",
       "          if(evt.buttons === 1 || evt.witch === 1 ){\n",
       "            currentX = evt.layerX;\n",
       "            currentY = evt.layerY;\n",
       "            isMoving = 1;\n",
       "\n",
       "            context.lineTo(currentX, currentY);\n",
       "            context.lineWidth = 5;\n",
       "            context.stroke();\n",
       "          }\n",
       "        }\n",
       "\n",
       "        function start(evt){\n",
       "          evt.preventDefault();\n",
       "          context.beginPath();\n",
       "\n",
       "          currentX = evt.layerX;\n",
       "          currentY = evt.layerY;\n",
       "\n",
       "          context.moveTo(currentX, currentY);\n",
       "        }\n",
       "\n",
       "    </script>\n"
      ],
      "text/plain": [
       "<IPython.core.display.HTML object>"
      ]
     },
     "execution_count": 5,
     "metadata": {},
     "output_type": "execute_result"
    }
   ],
   "source": [
    "from IPython.core.display import HTML\n",
    "import base64\n",
    "import numpy as np\n",
    "from io import BytesIO\n",
    "from PIL import Image\n",
    "\n",
    "numcanvas = '''\n",
    "    使い方：<BR>\n",
    "    黄色の範囲内にマウスでに数字を書きます<BR>\n",
    "    <canvas id=\"numArea\" height=\"256px\" width=\"256px\" \n",
    "    style=\"border: 3px double #999999; background-color:yellow;\"></canvas>\n",
    "    <BR>\n",
    "\n",
    "    <button id=\"save\">画面クリア</button>\n",
    "    <BR>\n",
    "    <script>\n",
    "        var kernel = IPython.notebook.kernel;\n",
    "\n",
    "        var currentX ;\n",
    "        var currentY ;\n",
    "        var isMoving = 0;\n",
    "\n",
    "        var imgDecoded \n",
    "            = 'imgArray = np.asarray(Image.open(BytesIO(base64.b64decode(imgDataSp))))[:,:,3]'\n",
    "        var save = document.getElementById(\"save\");\n",
    "        var numArea = document.getElementById(\"numArea\");\n",
    "        var context;\n",
    "        if (numArea.getContext(\"2d\")){\n",
    "            context = numArea.getContext(\"2d\");\n",
    "        }\n",
    "\n",
    "        save.addEventListener(\"click\", function(){\n",
    "            context.clearRect(0, 0, 256, 256);\n",
    "            kernel.execute(\"imgData = '\" + numArea.toDataURL() + \"'\");\n",
    "            kernel.execute('imgDataSp = imgData.split(\",\")[-1]');\n",
    "            kernel.execute('imgArray = '+imgDecoded);\n",
    "        });\n",
    "\n",
    "        numArea.addEventListener(\"mouseup\", end, false);\n",
    "        numArea.addEventListener(\"mousemove\", move, false);\n",
    "        numArea.addEventListener(\"mousedown\", start, false);\n",
    "\n",
    "        function end(evt){\n",
    "            if(isMoving === 0){\n",
    "               context.lineTo(currentX-1, currentY-1);\n",
    "               context.lineWidth = 5;\n",
    "               context.stroke();\n",
    "\n",
    "            }\n",
    "            isMoving = 0;\n",
    "            \n",
    "            {\n",
    "                kernel.execute(\"imgData = '\" + numArea.toDataURL() + \"'\");\n",
    "                kernel.execute('imgDataSp = imgData.split(\",\")[-1]');\n",
    "                kernel.execute('imgArray = '+imgDecoded);\n",
    "            }\n",
    "        }\n",
    "\n",
    "        function move(evt){\n",
    "          if(evt.buttons === 1 || evt.witch === 1 ){\n",
    "            currentX = evt.layerX;\n",
    "            currentY = evt.layerY;\n",
    "            isMoving = 1;\n",
    "\n",
    "            context.lineTo(currentX, currentY);\n",
    "            context.lineWidth = 5;\n",
    "            context.stroke();\n",
    "          }\n",
    "        }\n",
    "\n",
    "        function start(evt){\n",
    "          evt.preventDefault();\n",
    "          context.beginPath();\n",
    "\n",
    "          currentX = evt.layerX;\n",
    "          currentY = evt.layerY;\n",
    "\n",
    "          context.moveTo(currentX, currentY);\n",
    "        }\n",
    "\n",
    "    </script>\n",
    "'''\n",
    "HTML(numcanvas)"
   ]
  },
  {
   "cell_type": "code",
   "execution_count": 8,
   "metadata": {},
   "outputs": [
    {
     "name": "stdout",
     "output_type": "stream",
     "text": [
      "取り込んだ文字\n"
     ]
    },
    {
     "data": {
      "image/png": "[encoded data removed]",
      "text/plain": [
       "<Figure size 432x288 with 1 Axes>"
      ]
     },
     "metadata": {
      "needs_background": "light"
     },
     "output_type": "display_data"
    },
    {
     "name": "stdout",
     "output_type": "stream",
     "text": [
      "取り込んだ文字（28×28）\n"
     ]
    },
    {
     "data": {
      "image/png": "[encoded data removed]",
      "text/plain": [
       "<Figure size 432x288 with 1 Axes>"
      ]
     },
     "metadata": {
      "needs_background": "light"
     },
     "output_type": "display_data"
    },
    {
     "name": "stdout",
     "output_type": "stream",
     "text": [
      "文字を①次元の配列に変換した数値を参照すると、0から255の値であることがわかります\n",
      "   0   0   0   0   0   0   0   0   0   0   0   0   0   0   0   0   0   0   0   0   0   0   0   0   0   0   0   0\n",
      "   0   0   0   0   0   0   0   0   0   0   0   0   0   0   0   0   0   0   0   0   0   0   0   0   0   0   0   0\n",
      "   0   0   0   0   0   0   0   0   0   0   0   0   0   0   0   0   0   0   0   0   0   0   0   0   0   0   0   0\n",
      "   0   0   0   0   0   0   0   0   0   0   0   0   0   0   0   0   0   0   0   0   0   0   0   0   0   0   0   0\n",
      "   0   0   0   0   0   0   0   0   0   0   0   0   0   0   0   0   0   0   0   0   0   0   0   0   0   0   0   0\n",
      "   0   0   0   0   0   0   0   0   0   0   0   2   0  45 115   0   3   0   0   0   0   0   0   0   0   0   0   0\n",
      "   0   0   0   0   0   0   0   0   0   0   0   2   0  61 134   0   4   0   0   0   0   0   0   0   0   0   0   0\n",
      "   0   0   0   0   0   0   0   0   0   0   0   3   0  79 112   0   4   0   0   0   0   0   0   0   0   0   0   0\n",
      "   0   0   0   0   0   0   0   0   0   0   0   4   0  97  96   0   4   0   0   0   0   0   0   0   0   0   0   0\n",
      "   0   0   0   0   0   0   0   0   0   0   0   4   0 114  77   0   3   0   0   0   0   0   0   0   0   0   0   0\n",
      "   0   0   0   0   0   0   0   0   0   0   0   4   0 129  59   0   2   0   0   0   0   0   0   0   0   0   0   0\n",
      "   0   0   0   0   0   0   0   0   0   0   0   3   0 141  41   0   1   0   0   0   0   0   0   0   0   0   0   0\n",
      "   0   0   0   0   0   0   0   0   0   0   0   1   0 149  24   0   1   0   0   0   0   0   0   0   0   0   0   0\n",
      "   0   0   0   0   0   0   0   0   0   0   0   0   2 152   9   0   1   0   0   0   0   0   0   0   0   0   0   0\n",
      "   0   0   0   0   0   0   0   0   0   0   1   0  17 152   0   0   0   0   0   0   0   0   0   0   0   0   0   0\n",
      "   0   0   0   0   0   0   0   0   0   0   2   0  42 140   0   3   0   0   0   0   0   0   0   0   0   0   0   0\n",
      "   0   0   0   0   0   0   0   0   0   0   3   0  72 119   0   4   0   0   0   0   0   0   0   0   0   0   0   0\n",
      "   0   0   0   0   0   0   0   0   0   0   3   0 101  91   0   4   0   0   0   0   0   0   0   0   0   0   0   0\n",
      "   0   0   0   0   0   0   0   0   0   0   4   0 126  62   0   2   0   0   0   0   0   0   0   0   0   0   0   0\n",
      "   0   0   0   0   0   0   0   0   0   0   3   0 144  36   0   1   0   0   0   0   0   0   0   0   0   0   0   0\n",
      "   0   0   0   0   0   0   0   0   0   0   0   0 151  17   0   1   0   0   0   0   0   0   0   0   0   0   0   0\n",
      "   0   0   0   0   0   0   0   0   0   0   0   6 149   5   0   0   0   0   0   0   0   0   0   0   0   0   0   0\n",
      "   0   0   0   0   0   0   0   0   0   0   0  12 160   2   0   0   0   0   0   0   0   0   0   0   0   0   0   0\n",
      "   0   0   0   0   0   0   0   0   0   0   0  10 147   2   0   0   0   0   0   0   0   0   0   0   0   0   0   0\n",
      "   0   0   0   0   0   0   0   0   0   0   0   1  14   0   0   0   0   0   0   0   0   0   0   0   0   0   0   0\n",
      "   0   0   0   0   0   0   0   0   0   0   0   0   0   0   0   0   0   0   0   0   0   0   0   0   0   0   0   0\n",
      "   0   0   0   0   0   0   0   0   0   0   0   0   1   0   0   0   0   0   0   0   0   0   0   0   0   0   0   0\n",
      "   0   0   0   0   0   0   0   0   0   0   0   0   0   0   0   0   0   0   0   0   0   0   0   0   0   0   0   0\n"
     ]
    }
   ],
   "source": [
    "import matplotlib.pyplot as plt\n",
    "\n",
    "print(\"取り込んだ文字\")\n",
    "plt.imshow(imgArray, cmap=\"Greys\")\n",
    "plt.show()\n",
    "\n",
    "# 28×28にリサイズ\n",
    "i = Image.fromarray(np.uint8(imgArray))\n",
    "imgArrayOut = np.asarray(i.resize((28,28),resample=Image.LANCZOS))\n",
    "\n",
    "print(\"取り込んだ文字（28×28）\")\n",
    "plt.imshow(imgArrayOut, cmap=\"Greys\")\n",
    "plt.show()\n",
    "\n",
    "print(\"文字を①次元の配列に変換した数値を参照すると、0から255の値であることがわかります\")\n",
    "imgArray_flatten = imgArrayOut.flatten()#1次元のベクトルに変換\n",
    "# print(*imgArray_flatten)\n",
    "\n",
    "for i in range(28):\n",
    "    for j in range(28):\n",
    "        print('%4d' % imgArray_flatten[28*i+j],end=\"\")\n",
    "    print()"
   ]
  },
  {
   "cell_type": "code",
   "execution_count": 9,
   "metadata": {},
   "outputs": [
    {
     "data": {
      "text/plain": [
       "<BarContainer object of 10 artists>"
      ]
     },
     "execution_count": 9,
     "metadata": {},
     "output_type": "execute_result"
    },
    {
     "data": {
      "image/png": "[encoded data removed]",
      "text/plain": [
       "<Figure size 432x288 with 1 Axes>"
      ]
     },
     "metadata": {
      "needs_background": "light"
     },
     "output_type": "display_data"
    }
   ],
   "source": [
    "x = imgArray_flatten.astype('float32')\n",
    "x /= 255\n",
    "\n",
    "x = x.reshape(1, 784)\n",
    "result = model.predict(x)\n",
    "\n",
    "plt.bar(np.array([0, 1, 2, 3, 4, 5, 6, 7, 8, 9]), result[0])\n"
   ]
  },
  {
   "cell_type": "code",
   "execution_count": null,
   "metadata": {},
   "outputs": [],
   "source": []
  },
  {
   "cell_type": "code",
   "execution_count": null,
   "metadata": {},
   "outputs": [],
   "source": []
  }
 ],
 "metadata": {
  "kernelspec": {
   "display_name": "Python 3",
   "language": "python",
   "name": "python3"
  },
  "language_info": {
   "codemirror_mode": {
    "name": "ipython",
    "version": 3
   },
   "file_extension": ".py",
   "mimetype": "text/x-python",
   "name": "python",
   "nbconvert_exporter": "python",
   "pygments_lexer": "ipython3",
   "version": "3.6.8"
  }
 },
 "nbformat": 4,
 "nbformat_minor": 2
}
