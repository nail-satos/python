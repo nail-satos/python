{
 "cells": [
  {
   "cell_type": "markdown",
   "metadata": {},
   "source": [
    "---\n",
    "## 線形回帰\n",
    "　ifから始まって線形回帰まで  \n",
    "　[のび太と学ぶ「機械学習」～FX予測プログラムを作成～【第1話】if文作戦 - Qiita](https://qiita.com/sugulu/items/45e3cfaa78e5f13d9389)\n"
   ]
  }
 ],
 "metadata": {
  "kernelspec": {
   "display_name": "Python 3",
   "language": "python",
   "name": "python3"
  },
  "language_info": {
   "codemirror_mode": {
    "name": "ipython",
    "version": 3
   },
   "file_extension": ".py",
   "mimetype": "text/x-python",
   "name": "python",
   "nbconvert_exporter": "python",
   "pygments_lexer": "ipython3",
   "version": "3.6.8"
  }
 },
 "nbformat": 4,
 "nbformat_minor": 2
}
