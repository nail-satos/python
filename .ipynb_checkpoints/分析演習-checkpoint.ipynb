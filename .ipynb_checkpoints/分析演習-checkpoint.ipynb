{
 "cells": [
  {
   "cell_type": "markdown",
   "metadata": {},
   "source": [
    "---\n",
    "### あたらしいPythonによるデータ分析の教科書　より"
   ]
  },
  {
   "cell_type": "markdown",
   "metadata": {},
   "source": [
    "**p031**～ Pythonの基礎"
   ]
  },
  {
   "cell_type": "code",
   "execution_count": 9,
   "metadata": {},
   "outputs": [
    {
     "data": {
      "text/plain": [
       "[4, 3, 4, 5, 5]"
      ]
     },
     "execution_count": 9,
     "metadata": {},
     "output_type": "execute_result"
    }
   ],
   "source": [
    "names = ['spma','ham', 'eggs', 'eggs2', 'eggs3']\n",
    "lens = []\n",
    "for name in names:\n",
    "    lens.append(len(name))\n",
    "\n",
    "lens"
   ]
  },
  {
   "cell_type": "code",
   "execution_count": 5,
   "metadata": {},
   "outputs": [
    {
     "data": {
      "text/plain": [
       "[4, 3, 4]"
      ]
     },
     "execution_count": 5,
     "metadata": {},
     "output_type": "execute_result"
    }
   ],
   "source": [
    "lens2 = [len(name) for name in names]\n",
    "lens2"
   ]
  },
  {
   "cell_type": "code",
   "execution_count": 10,
   "metadata": {},
   "outputs": [
    {
     "data": {
      "text/plain": [
       "{3, 4, 5}"
      ]
     },
     "execution_count": 10,
     "metadata": {},
     "output_type": "execute_result"
    }
   ],
   "source": [
    "{len(name) for name in names}"
   ]
  },
  {
   "cell_type": "code",
   "execution_count": 11,
   "metadata": {},
   "outputs": [
    {
     "data": {
      "text/plain": [
       "{'spma': 4, 'ham': 3, 'eggs': 4, 'eggs2': 5, 'eggs3': 5}"
      ]
     },
     "execution_count": 11,
     "metadata": {},
     "output_type": "execute_result"
    }
   ],
   "source": [
    "{name:len(name) for name in names}"
   ]
  },
  {
   "cell_type": "code",
   "execution_count": 15,
   "metadata": {},
   "outputs": [
    {
     "data": {
      "text/plain": [
       "[36, 64]"
      ]
     },
     "execution_count": 15,
     "metadata": {},
     "output_type": "execute_result"
    }
   ],
   "source": [
    "[x*x for x in range(5,10) if x % 2 == 0]"
   ]
  },
  {
   "cell_type": "code",
   "execution_count": 16,
   "metadata": {},
   "outputs": [
    {
     "data": {
      "text/plain": [
       "generator"
      ]
     },
     "execution_count": 16,
     "metadata": {},
     "output_type": "execute_result"
    }
   ],
   "source": [
    "g = (x*x for x in range (100000))\n",
    "type(g)"
   ]
  },
  {
   "cell_type": "code",
   "execution_count": 20,
   "metadata": {},
   "outputs": [
    {
     "data": {
      "text/plain": [
       "9"
      ]
     },
     "execution_count": 20,
     "metadata": {},
     "output_type": "execute_result"
    }
   ],
   "source": [
    "next(g)"
   ]
  },
  {
   "cell_type": "markdown",
   "metadata": {},
   "source": [
    "**p033**～ファイル入出力"
   ]
  },
  {
   "cell_type": "code",
   "execution_count": 22,
   "metadata": {},
   "outputs": [],
   "source": [
    "with open('sample.txt','w',encoding='utf-8') as f:\n",
    "    f.write('こんにちは\\n')\n",
    "    f.write('Python\\n')\n",
    "    "
   ]
  },
  {
   "cell_type": "code",
   "execution_count": 23,
   "metadata": {},
   "outputs": [
    {
     "data": {
      "text/plain": [
       "True"
      ]
     },
     "execution_count": 23,
     "metadata": {},
     "output_type": "execute_result"
    }
   ],
   "source": [
    "f.closed"
   ]
  },
  {
   "cell_type": "code",
   "execution_count": 29,
   "metadata": {},
   "outputs": [],
   "source": [
    "f.close()"
   ]
  },
  {
   "cell_type": "markdown",
   "metadata": {},
   "source": [
    "---\n",
    "p33のやり方だと <function TextIOWrapper.read(size=-1, /)> が出力されたため、以下を参考に  \n",
    "[Python: テキストファイルの読み込み - read()、readlines()、readline()メソッド | Yukun's Blog](https://yukun.info/python-file/)  \n",
    "\n",
    "ついでにファイルオープン時の文字コード指定  \n",
    "[Pythonのopen関数のencoding引数は必須でもいいんじゃない - ベスパリブ](https://takeg.hatenadiary.jp/entry/2018/02/02/115754)  \n"
   ]
  },
  {
   "cell_type": "code",
   "execution_count": 32,
   "metadata": {},
   "outputs": [
    {
     "data": {
      "text/plain": [
       "<function TextIOWrapper.read(size=-1, /)>"
      ]
     },
     "execution_count": 32,
     "metadata": {},
     "output_type": "execute_result"
    }
   ],
   "source": [
    "with open('sample.txt', encoding='utf-8') as f:\n",
    "    data = f.read\n",
    "    \n",
    "data"
   ]
  },
  {
   "cell_type": "code",
   "execution_count": 5,
   "metadata": {},
   "outputs": [
    {
     "name": "stdout",
     "output_type": "stream",
     "text": [
      "こんにちは\n",
      "\n",
      "Python\n",
      "\n"
     ]
    }
   ],
   "source": [
    "f = open('sample.txt', encoding=\"utf-8\")\n",
    "line = f.readline() # 1行を文字列として読み込む(改行文字も含まれる)\n",
    "while line:\n",
    "    print(line)\n",
    "    line = f.readline()\n",
    "f.close()"
   ]
  },
  {
   "cell_type": "markdown",
   "metadata": {},
   "source": [
    "---\n",
    "p34～"
   ]
  },
  {
   "cell_type": "code",
   "execution_count": 7,
   "metadata": {},
   "outputs": [
    {
     "data": {
      "text/plain": [
       "('HELLO PYTHON', 'hello python', 'Hello Python')"
      ]
     },
     "execution_count": 7,
     "metadata": {},
     "output_type": "execute_result"
    }
   ],
   "source": [
    "s1='hello python'\n",
    "s1.upper(),s1.lower(),s1.title()\n"
   ]
  },
  {
   "cell_type": "code",
   "execution_count": 10,
   "metadata": {},
   "outputs": [],
   "source": [
    "s1b = s1.replace('hello','Hi')"
   ]
  },
  {
   "cell_type": "code",
   "execution_count": 11,
   "metadata": {},
   "outputs": [
    {
     "data": {
      "text/plain": [
       "'Hi python'"
      ]
     },
     "execution_count": 11,
     "metadata": {},
     "output_type": "execute_result"
    }
   ],
   "source": [
    "s1b"
   ]
  },
  {
   "cell_type": "code",
   "execution_count": 14,
   "metadata": {},
   "outputs": [
    {
     "data": {
      "text/plain": [
       "['spam', 'ham', 'eggs']"
      ]
     },
     "execution_count": 14,
     "metadata": {},
     "output_type": "execute_result"
    }
   ],
   "source": [
    "s2 = ' spam ham eggs '\n",
    "s2.split()"
   ]
  },
  {
   "cell_type": "markdown",
   "metadata": {},
   "source": [
    "s2.strip()"
   ]
  },
  {
   "cell_type": "code",
   "execution_count": 22,
   "metadata": {},
   "outputs": [
    {
     "data": {
      "text/plain": [
       "False"
      ]
     },
     "execution_count": 22,
     "metadata": {},
     "output_type": "execute_result"
    }
   ],
   "source": [
    "s3 = 'sample.jpg'\n",
    "s3.endswith(('jpg','png'))"
   ]
  },
  {
   "cell_type": "code",
   "execution_count": 27,
   "metadata": {},
   "outputs": [
    {
     "data": {
      "text/plain": [
       "True"
      ]
     },
     "execution_count": 27,
     "metadata": {},
     "output_type": "execute_result"
    }
   ],
   "source": [
    "s3a = \"1234\"\n",
    "s3a.isdigit()"
   ]
  },
  {
   "cell_type": "code",
   "execution_count": 28,
   "metadata": {},
   "outputs": [
    {
     "data": {
      "text/plain": [
       "4"
      ]
     },
     "execution_count": 28,
     "metadata": {},
     "output_type": "execute_result"
    }
   ],
   "source": [
    "len(s3a)"
   ]
  },
  {
   "cell_type": "code",
   "execution_count": 33,
   "metadata": {},
   "outputs": [
    {
     "name": "stdout",
     "output_type": "stream",
     "text": [
      "hello python\n"
     ]
    },
    {
     "data": {
      "text/plain": [
       "False"
      ]
     },
     "execution_count": 33,
     "metadata": {},
     "output_type": "execute_result"
    }
   ],
   "source": [
    "print(s1)\n",
    "'pya' in s1"
   ]
  },
  {
   "cell_type": "code",
   "execution_count": 37,
   "metadata": {},
   "outputs": [
    {
     "data": {
      "text/plain": [
       "'spam*ham'"
      ]
     },
     "execution_count": 37,
     "metadata": {},
     "output_type": "execute_result"
    }
   ],
   "source": [
    "'*'.join({'spam','ham'})"
   ]
  },
  {
   "cell_type": "markdown",
   "metadata": {},
   "source": [
    "---\n",
    "p036～ formatメソッド"
   ]
  },
  {
   "cell_type": "code",
   "execution_count": 41,
   "metadata": {},
   "outputs": [
    {
     "data": {
      "text/plain": [
       "'10はsatoが大好きです'"
      ]
     },
     "execution_count": 41,
     "metadata": {},
     "output_type": "execute_result"
    }
   ],
   "source": [
    "lang,num,name = 'pthon',10,'takanory'\n",
    "name = 'sato'\n",
    "'{1}は{2}が大好きです'.format(lang,num,name)"
   ]
  },
  {
   "cell_type": "code",
   "execution_count": 43,
   "metadata": {},
   "outputs": [
    {
     "data": {
      "text/plain": [
       "'pthonは10がsato大好きです'"
      ]
     },
     "execution_count": 43,
     "metadata": {},
     "output_type": "execute_result"
    }
   ],
   "source": [
    "'{l}は{n}が{m}大好きです'.format(l=lang,n=num,m=name)"
   ]
  },
  {
   "cell_type": "markdown",
   "metadata": {},
   "source": [
    "---\n",
    "**p036～　標準ライブラリ**"
   ]
  },
  {
   "cell_type": "code",
   "execution_count": 47,
   "metadata": {},
   "outputs": [
    {
     "data": {
      "text/plain": [
       "<re.Match object; span=(0, 6), match='Python'>"
      ]
     },
     "execution_count": 47,
     "metadata": {},
     "output_type": "execute_result"
    }
   ],
   "source": [
    "import re\n",
    "prog = re.compile('(P(yth|l)|Z)o[pn]e?')\n",
    "#正規表現オブジェクトを作成\n",
    "\n",
    "prog.search('Python')\n",
    "#マッチする場合は、マッチオブジェクトを返す\n"
   ]
  },
  {
   "cell_type": "code",
   "execution_count": 48,
   "metadata": {},
   "outputs": [],
   "source": [
    "# マッチしない場合はnone（何も返さない）\n",
    "prog.search('Spam')"
   ]
  },
  {
   "cell_type": "code",
   "execution_count": 2,
   "metadata": {},
   "outputs": [],
   "source": [
    "import logging\n",
    "logging.basicConfig(filename='example.log',level=logging.INFO,format='%(asctime)s:%(levelname)s:%(message)s')"
   ]
  },
  {
   "cell_type": "code",
   "execution_count": 4,
   "metadata": {},
   "outputs": [],
   "source": [
    "logging.debug('おばかさん')"
   ]
  },
  {
   "cell_type": "code",
   "execution_count": 6,
   "metadata": {},
   "outputs": [],
   "source": [
    "logging.info('いんふぉだってよ')"
   ]
  },
  {
   "cell_type": "markdown",
   "metadata": {},
   "source": [
    "ログが開きっぱなしになっているような気がするが。  \n",
    "そもそもimport loggingは使うべきではない、という記事  \n",
    "[【Python】 loggerのログが重複する - gologiusの巣](http://gologius.hatenadiary.com/entry/2018/06/06/214541)  \n"
   ]
  },
  {
   "cell_type": "code",
   "execution_count": null,
   "metadata": {},
   "outputs": [],
   "source": []
  },
  {
   "cell_type": "code",
   "execution_count": 7,
   "metadata": {},
   "outputs": [
    {
     "data": {
      "text/plain": [
       "datetime.datetime(2019, 4, 20, 19, 22, 38, 109605)"
      ]
     },
     "execution_count": 7,
     "metadata": {},
     "output_type": "execute_result"
    }
   ],
   "source": [
    "from datetime import datetime,date\n",
    "datetime.now()"
   ]
  },
  {
   "cell_type": "markdown",
   "metadata": {},
   "source": [
    "form～import の使い方は以下に。いろいろなパターンで解説してある。  \n",
    "[Python from・importの基本的な使い方 | 鎖プログラム](https://pg-chain.com/python-from-import)  "
   ]
  },
  {
   "cell_type": "code",
   "execution_count": 10,
   "metadata": {},
   "outputs": [
    {
     "data": {
      "text/plain": [
       "datetime.date(2019, 4, 20)"
      ]
     },
     "execution_count": 10,
     "metadata": {},
     "output_type": "execute_result"
    }
   ],
   "source": [
    "date.today()"
   ]
  },
  {
   "cell_type": "code",
   "execution_count": 11,
   "metadata": {},
   "outputs": [
    {
     "data": {
      "text/plain": [
       "datetime.timedelta(days=3790)"
      ]
     },
     "execution_count": 11,
     "metadata": {},
     "output_type": "execute_result"
    }
   ],
   "source": [
    "date.today() - date(2008,12,3)"
   ]
  },
  {
   "cell_type": "code",
   "execution_count": 15,
   "metadata": {},
   "outputs": [],
   "source": [
    "dn = datetime.now()"
   ]
  },
  {
   "cell_type": "code",
   "execution_count": 16,
   "metadata": {},
   "outputs": [
    {
     "data": {
      "text/plain": [
       "2019"
      ]
     },
     "execution_count": 16,
     "metadata": {},
     "output_type": "execute_result"
    }
   ],
   "source": [
    "dn.year"
   ]
  },
  {
   "cell_type": "markdown",
   "metadata": {},
   "source": [
    "年・月・日だけを取ってくる方法。  \n",
    "datetimeオブジェクトの属性（information）なので、インスタンス化させてから取得すればいいみたい  \n",
    "[Pythonのdatetimeで日付や時間と文字列を変換（strftime, strptime） | note.nkmk.me](https://note.nkmk.me/python-datetime-usage/)   "
   ]
  },
  {
   "cell_type": "code",
   "execution_count": 19,
   "metadata": {},
   "outputs": [
    {
     "data": {
      "text/plain": [
       "datetime.datetime(2018, 7, 11, 0, 0)"
      ]
     },
     "execution_count": 19,
     "metadata": {},
     "output_type": "execute_result"
    }
   ],
   "source": [
    "datetime.strptime('2018年7月11日','%Y年%m月%d日') # 文字列を日時に変換"
   ]
  },
  {
   "cell_type": "markdown",
   "metadata": {},
   "source": [
    "---\n",
    "**p40～ pickleモジュール**"
   ]
  },
  {
   "cell_type": "code",
   "execution_count": 24,
   "metadata": {},
   "outputs": [
    {
     "data": {
      "text/plain": [
       "{'today': datetime.date(2019, 4, 21), 'delta': datetime.timedelta(days=255)}"
      ]
     },
     "execution_count": 24,
     "metadata": {},
     "output_type": "execute_result"
    }
   ],
   "source": [
    "import pickle\n",
    "\n",
    "d={'today':date.today(),'delta':date(2020,1,1)-date.today()}\n",
    "d"
   ]
  },
  {
   "cell_type": "code",
   "execution_count": 25,
   "metadata": {},
   "outputs": [
    {
     "data": {
      "text/plain": [
       "b'\\x80\\x03}q\\x00(X\\x05\\x00\\x00\\x00todayq\\x01cdatetime\\ndate\\nq\\x02C\\x04\\x07\\xe3\\x04\\x15q\\x03\\x85q\\x04Rq\\x05X\\x05\\x00\\x00\\x00deltaq\\x06cdatetime\\ntimedelta\\nq\\x07K\\xffK\\x00K\\x00\\x87q\\x08Rq\\tu.'"
      ]
     },
     "execution_count": 25,
     "metadata": {},
     "output_type": "execute_result"
    }
   ],
   "source": [
    "pickle.dumps(d)"
   ]
  },
  {
   "cell_type": "markdown",
   "metadata": {},
   "source": [
    "pickle = ピクルスのことらしい  \n",
    "[python オブジェクトのピクル(pickle)化 - dackdive's blog](https://dackdive.hateblo.jp/entry/2014/09/16/112404)  \n",
    "\n",
    "シェルから python -m ×××　で任意の標準モジュールを実行できる\n",
    "[Pythonでコマンドラインからpickleの中身を確認する - Qiita](https://qiita.com/yagays/items/3dd084469a7444714695)  "
   ]
  },
  {
   "cell_type": "code",
   "execution_count": 26,
   "metadata": {},
   "outputs": [],
   "source": [
    "# ファイルをバイト書き込みモードで開く\n",
    "with open('date.pkl','wb') as f:\n",
    "    # Pickle形式のデータを保存\n",
    "    pickle.dump(d,f)\n"
   ]
  },
  {
   "cell_type": "markdown",
   "metadata": {},
   "source": [
    "ふと、クラス、モジュール、メソッド、関数という言葉がごっちゃだったので調べてみた  \n",
    "[【Python】モジュール・クラス・メソッドの関係を知る | 鎖プログラム](https://pg-chain.com/python-module-class-method)  \n",
    "[Python初心者がステップアップするために覚えたいこと | 株式会社キャパ CAPA,Inc.](https://www.capa.co.jp/archives/7169)  "
   ]
  },
  {
   "cell_type": "code",
   "execution_count": 28,
   "metadata": {},
   "outputs": [
    {
     "data": {
      "text/plain": [
       "{'today': datetime.date(2019, 4, 21), 'delta': datetime.timedelta(days=255)}"
      ]
     },
     "execution_count": 28,
     "metadata": {},
     "output_type": "execute_result"
    }
   ],
   "source": [
    "#ファイルをバイト読み込みモードで開く\n",
    "with open('date.pkl','rb') as f:\n",
    "    new_d = pickle.load(f)\n",
    "\n",
    "new_d"
   ]
  },
  {
   "cell_type": "markdown",
   "metadata": {},
   "source": [
    "with構文は「ある機能の利用者が、より安全、簡潔にその機能を使えるようにする構文」とのこと  \n",
    "[with構文とは何なのか - 年中アイス](https://reiki4040.hatenablog.com/entry/20130331/1364723288)    \n"
   ]
  },
  {
   "cell_type": "markdown",
   "metadata": {},
   "source": [
    "---\n",
    "**p041～ pathlibモジュール**  \n",
    "[pathlib --- オブジェクト指向のファイルシステムパス — Python 3.7.3 ドキュメント](https://docs.python.org/ja/3/library/pathlib.html)  "
   ]
  },
  {
   "cell_type": "code",
   "execution_count": 29,
   "metadata": {},
   "outputs": [
    {
     "data": {
      "text/plain": [
       "WindowsPath('.')"
      ]
     },
     "execution_count": 29,
     "metadata": {},
     "output_type": "execute_result"
    }
   ],
   "source": [
    "from pathlib import Path\n",
    "#Pathオブジェクトを現在のディレクトリで作成\n",
    "p = Path()\n",
    "p"
   ]
  },
  {
   "cell_type": "code",
   "execution_count": 38,
   "metadata": {},
   "outputs": [
    {
     "data": {
      "text/plain": [
       "'こんにちは\\nPython\\nこんばんは\\nPython\\nこんにちは\\nPython\\n'"
      ]
     },
     "execution_count": 38,
     "metadata": {},
     "output_type": "execute_result"
    }
   ],
   "source": [
    "#txtファイルを順番に開いて読み込む\n",
    "for filepath in p.glob('*.txt'):\n",
    "    with open(filepath,encoding='utf-8') as f:\n",
    "        data = data + f.read()\n",
    "        \n",
    "data"
   ]
  },
  {
   "cell_type": "code",
   "execution_count": 45,
   "metadata": {},
   "outputs": [
    {
     "data": {
      "text/plain": [
       "True"
      ]
     },
     "execution_count": 45,
     "metadata": {},
     "output_type": "execute_result"
    }
   ],
   "source": [
    "p = Path('./date.pkl')\n",
    "p.exists()"
   ]
  },
  {
   "cell_type": "code",
   "execution_count": 46,
   "metadata": {},
   "outputs": [
    {
     "data": {
      "text/plain": [
       "False"
      ]
     },
     "execution_count": 46,
     "metadata": {},
     "output_type": "execute_result"
    }
   ],
   "source": [
    "p.is_dir()"
   ]
  },
  {
   "cell_type": "code",
   "execution_count": 51,
   "metadata": {},
   "outputs": [
    {
     "name": "stdout",
     "output_type": "stream",
     "text": [
      "2.23 ms ± 204 µs per loop (mean ± std. dev. of 10 runs, 100 loops each)\n"
     ]
    }
   ],
   "source": [
    "%%timeit -n 100 -r 10\n",
    "\n",
    "ret = []\n",
    "for x in range(10000):\n",
    "    ret.append(x*x)\n",
    "    "
   ]
  },
  {
   "cell_type": "markdown",
   "metadata": {},
   "source": [
    "---\n",
    "**マジックコマンドなど**使えるTIPSをまとめたサイト　※あとで読む  \n",
    "[https://adtech.cyberagent.io/techblog/archives/2317](https://adtech.cyberagent.io/techblog/archives/2317)   \n"
   ]
  },
  {
   "cell_type": "code",
   "execution_count": null,
   "metadata": {},
   "outputs": [],
   "source": [
    "ここで寄り道。↑サイトを試してみる"
   ]
  },
  {
   "cell_type": "code",
   "execution_count": 5,
   "metadata": {},
   "outputs": [],
   "source": [
    "%matplotlib inline"
   ]
  },
  {
   "cell_type": "markdown",
   "metadata": {},
   "source": [
    "参考  \n",
    "[matplotlib で散布図 (Scatter plot) を描く – Python でデータサイエンス](https://pythondatascience.plavox.info/matplotlib/%E6%95%A3%E5%B8%83%E5%9B%B3)  "
   ]
  },
  {
   "cell_type": "code",
   "execution_count": 11,
   "metadata": {},
   "outputs": [
    {
     "data": {
      "text/plain": [
       "<matplotlib.collections.PathCollection at 0x1bf8484c748>"
      ]
     },
     "execution_count": 11,
     "metadata": {},
     "output_type": "execute_result"
    },
    {
     "data": {
      "image/png": "[encoded data removed]",
      "text/plain": [
       "<Figure size 432x288 with 1 Axes>"
      ]
     },
     "metadata": {
      "needs_background": "light"
     },
     "output_type": "display_data"
    }
   ],
   "source": [
    "import numpy as np\n",
    "import matplotlib.pyplot as plt\n",
    " \n",
    "# 乱数を生成\n",
    "x = np.random.rand(100)\n",
    "y = np.random.rand(100)\n",
    " \n",
    "# 散布図を描画\n",
    "plt.scatter(x, y)"
   ]
  },
  {
   "cell_type": "code",
   "execution_count": 14,
   "metadata": {},
   "outputs": [
    {
     "name": "stdout",
     "output_type": "stream",
     "text": [
      "Package                            Version \n",
      "---------------------------------- --------\n",
      "alabaster                          0.7.12  \n",
      "anaconda-client                    1.7.2   \n",
      "anaconda-project                   0.8.2   \n",
      "asn1crypto                         0.24.0  \n",
      "astroid                            2.2.5   \n",
      "astropy                            3.1.2   \n",
      "atomicwrites                       1.3.0   \n",
      "attrs                              19.1.0  \n",
      "Babel                              2.6.0   \n",
      "backcall                           0.1.0   \n",
      "backports.os                       0.1.1   \n",
      "backports.shutil-get-terminal-size 1.0.0   \n",
      "beautifulsoup4                     4.7.1   \n",
      "bitarray                           0.8.3   \n",
      "bkcharts                           0.2     \n",
      "bleach                             3.1.0   \n",
      "bokeh                              1.0.4   \n",
      "boto                               2.49.0  \n",
      "Bottleneck                         1.2.1   \n",
      "certifi                            2019.3.9\n",
      "cffi                               1.12.2  \n",
      "chardet                            3.0.4   \n",
      "Click                              7.0     \n",
      "cloudpickle                        0.8.0   \n",
      "clyent                             1.2.2   \n",
      "colorama                           0.4.1   \n",
      "comtypes                           1.1.7   \n",
      "contextlib2                        0.5.5   \n",
      "cryptography                       2.6.1   \n",
      "cycler                             0.10.0  \n",
      "Cython                             0.29.6  \n",
      "cytoolz                            0.9.0.1 \n",
      "dask                               1.1.4   \n",
      "decorator                          4.4.0   \n",
      "defusedxml                         0.5.0   \n",
      "distributed                        1.26.0  \n",
      "docutils                           0.14    \n",
      "entrypoints                        0.3     \n",
      "et-xmlfile                         1.0.1   \n",
      "fastcache                          1.0.2   \n",
      "filelock                           3.0.10  \n",
      "Flask                              1.0.2   \n",
      "gevent                             1.4.0   \n",
      "glob2                              0.6     \n",
      "greenlet                           0.4.15  \n",
      "h5py                               2.9.0   \n",
      "heapdict                           1.0.0   \n",
      "html5lib                           1.0.1   \n",
      "idna                               2.8     \n",
      "imageio                            2.5.0   \n",
      "imagesize                          1.1.0   \n",
      "importlib-metadata                 0.0.0   \n",
      "ipykernel                          5.1.0   \n",
      "ipython                            7.4.0   \n",
      "ipython-genutils                   0.2.0   \n",
      "ipywidgets                         7.4.2   \n",
      "isort                              4.3.16  \n",
      "itsdangerous                       1.1.0   \n",
      "jdcal                              1.4     \n",
      "jedi                               0.13.3  \n",
      "Jinja2                             2.10    \n",
      "jsonschema                         3.0.1   \n",
      "jupyter                            1.0.0   \n",
      "jupyter-client                     5.2.4   \n",
      "jupyter-console                    6.0.0   \n",
      "jupyter-core                       4.4.0   \n",
      "jupyterlab                         0.35.4  \n",
      "jupyterlab-server                  0.2.0   \n",
      "keyring                            18.0.0  \n",
      "kiwisolver                         1.0.1   \n",
      "lazy-object-proxy                  1.3.1   \n",
      "libarchive-c                       2.8     \n",
      "llvmlite                           0.28.0  \n",
      "locket                             0.2.0   \n",
      "lxml                               4.3.2   \n",
      "MarkupSafe                         1.1.1   \n",
      "matplotlib                         3.0.3   \n",
      "mccabe                             0.6.1   \n",
      "menuinst                           1.4.16  \n",
      "mistune                            0.8.4   \n",
      "mkl-fft                            1.0.10  \n",
      "mkl-random                         1.0.2   \n",
      "more-itertools                     6.0.0   \n",
      "mpmath                             1.1.0   \n",
      "msgpack                            0.6.1   \n",
      "multipledispatch                   0.6.0   \n",
      "nbconvert                          5.4.1   \n",
      "nbformat                           4.4.0   \n",
      "networkx                           2.2     \n",
      "nltk                               3.4     \n",
      "nose                               1.3.7   \n",
      "notebook                           5.7.8   \n",
      "numba                              0.43.1  \n",
      "numexpr                            2.6.9   \n",
      "numpy                              1.16.2  \n",
      "numpydoc                           0.8.0   \n",
      "olefile                            0.46    \n",
      "openpyxl                           2.6.1   \n",
      "packaging                          19.0    \n",
      "pandas                             0.24.2  \n",
      "pandocfilters                      1.4.2   \n",
      "parso                              0.3.4   \n",
      "partd                              0.3.10  \n",
      "path.py                            11.5.0  \n",
      "pathlib2                           2.3.3   \n",
      "patsy                              0.5.1   \n",
      "pep8                               1.7.1   \n",
      "pickleshare                        0.7.5   \n",
      "Pillow                             5.4.1   \n",
      "pip                                19.0.3  \n",
      "pkginfo                            1.5.0.1 \n",
      "pluggy                             0.9.0   \n",
      "ply                                3.11    \n",
      "prometheus-client                  0.6.0   \n",
      "prompt-toolkit                     2.0.9   \n",
      "psutil                             5.6.1   \n",
      "py                                 1.8.0   \n",
      "pycodestyle                        2.5.0   \n",
      "pycosat                            0.6.3   \n",
      "pycparser                          2.19    \n",
      "pycrypto                           2.6.1   \n",
      "pycurl                             7.43.0.2\n",
      "pyflakes                           2.1.1   \n",
      "Pygments                           2.3.1   \n",
      "pylint                             2.3.1   \n",
      "pyodbc                             4.0.26  \n",
      "pyOpenSSL                          19.0.0  \n",
      "pyparsing                          2.3.1   \n",
      "pyreadline                         2.1     \n",
      "pyrsistent                         0.14.11 \n",
      "PySocks                            1.6.8   \n",
      "pytest                             4.3.1   \n",
      "pytest-arraydiff                   0.3     \n",
      "pytest-astropy                     0.5.0   \n",
      "pytest-doctestplus                 0.3.0   \n",
      "pytest-openfiles                   0.3.2   \n",
      "pytest-remotedata                  0.3.1   \n",
      "python-dateutil                    2.8.0   \n",
      "pytz                               2018.9  \n",
      "PyWavelets                         1.0.2   \n",
      "pywin32                            223     \n",
      "pywinpty                           0.5.5   \n",
      "PyYAML                             5.1     \n",
      "pyzmq                              18.0.0  \n",
      "QtAwesome                          0.5.7   \n",
      "qtconsole                          4.4.3   \n",
      "QtPy                               1.7.0   \n",
      "requests                           2.21.0  \n",
      "rope                               0.12.0  \n",
      "ruamel-yaml                        0.15.46 \n",
      "scikit-image                       0.14.2  \n",
      "scikit-learn                       0.20.3  \n",
      "scipy                              1.2.1   \n",
      "seaborn                            0.9.0   \n",
      "Send2Trash                         1.5.0   \n",
      "setuptools                         40.8.0  \n",
      "simplegeneric                      0.8.1   \n",
      "singledispatch                     3.4.0.3 \n",
      "six                                1.12.0  \n",
      "snowballstemmer                    1.2.1   \n",
      "sortedcollections                  1.1.2   \n",
      "sortedcontainers                   2.1.0   \n",
      "soupsieve                          1.8     \n",
      "Sphinx                             1.8.5   \n",
      "sphinxcontrib-websupport           1.1.0   \n",
      "spyder                             3.3.3   \n",
      "spyder-kernels                     0.4.2   \n",
      "SQLAlchemy                         1.3.1   \n",
      "statsmodels                        0.9.0   \n",
      "sympy                              1.3     \n",
      "tables                             3.5.1   \n",
      "tblib                              1.3.2   \n",
      "terminado                          0.8.1   \n",
      "testpath                           0.4.2   \n",
      "toolz                              0.9.0   \n",
      "tornado                            6.0.2   \n",
      "tqdm                               4.31.1  \n",
      "traitlets                          4.3.2   \n",
      "unicodecsv                         0.14.1  \n",
      "urllib3                            1.24.1  \n",
      "wcwidth                            0.1.7   \n",
      "webencodings                       0.5.1   \n",
      "Werkzeug                           0.14.1  \n",
      "wheel                              0.33.1  \n",
      "widgetsnbextension                 3.4.2   \n",
      "win-inet-pton                      1.1.0   \n",
      "win-unicode-console                0.5     \n",
      "wincertstore                       0.2     \n",
      "wrapt                              1.11.1  \n",
      "xlrd                               1.2.0   \n",
      "XlsxWriter                         1.1.5   \n",
      "xlwings                            0.15.4  \n",
      "xlwt                               1.3.0   \n",
      "zict                               0.1.4   \n",
      "zipp                               0.3.3   \n"
     ]
    }
   ],
   "source": [
    "!pip list"
   ]
  },
  {
   "cell_type": "markdown",
   "metadata": {},
   "source": [
    "---\n",
    "結構、処理時間がかかった。"
   ]
  },
  {
   "cell_type": "markdown",
   "metadata": {},
   "source": [
    "---\n",
    "**p90～ Numpy**"
   ]
  },
  {
   "cell_type": "code",
   "execution_count": 2,
   "metadata": {},
   "outputs": [],
   "source": [
    "import numpy as np\n",
    "\n",
    "a = np.array([1,2,3])\n"
   ]
  },
  {
   "cell_type": "code",
   "execution_count": 16,
   "metadata": {},
   "outputs": [
    {
     "data": {
      "text/plain": [
       "array([1, 2, 3])"
      ]
     },
     "execution_count": 16,
     "metadata": {},
     "output_type": "execute_result"
    }
   ],
   "source": [
    "a"
   ]
  },
  {
   "cell_type": "code",
   "execution_count": 17,
   "metadata": {},
   "outputs": [
    {
     "name": "stdout",
     "output_type": "stream",
     "text": [
      "[1 2 3]\n"
     ]
    }
   ],
   "source": [
    "print(a)"
   ]
  },
  {
   "cell_type": "code",
   "execution_count": 18,
   "metadata": {},
   "outputs": [
    {
     "data": {
      "text/plain": [
       "numpy.ndarray"
      ]
     },
     "execution_count": 18,
     "metadata": {},
     "output_type": "execute_result"
    }
   ],
   "source": [
    "type(a)"
   ]
  },
  {
   "cell_type": "code",
   "execution_count": 24,
   "metadata": {},
   "outputs": [
    {
     "data": {
      "text/plain": [
       "float"
      ]
     },
     "execution_count": 24,
     "metadata": {},
     "output_type": "execute_result"
    }
   ],
   "source": [
    "i=1.5\n",
    "type(i)"
   ]
  },
  {
   "cell_type": "code",
   "execution_count": 25,
   "metadata": {},
   "outputs": [
    {
     "data": {
      "text/plain": [
       "(3,)"
      ]
     },
     "execution_count": 25,
     "metadata": {},
     "output_type": "execute_result"
    }
   ],
   "source": [
    "a.shape"
   ]
  },
  {
   "cell_type": "code",
   "execution_count": null,
   "metadata": {},
   "outputs": [],
   "source": []
  },
  {
   "cell_type": "code",
   "execution_count": 4,
   "metadata": {},
   "outputs": [
    {
     "name": "stdout",
     "output_type": "stream",
     "text": [
      "b = np.array([[1,2,3],[4,5,6]])\n",
      "b\n",
      "import numpy as np\n",
      "\n",
      "a = np.array([1,2,3])\n",
      "b = np.array([[1,2,3],[4,5,6]])\n",
      "b\n",
      "%history\n"
     ]
    }
   ],
   "source": [
    "%history"
   ]
  },
  {
   "cell_type": "markdown",
   "metadata": {},
   "source": [
    "---\n",
    "**メモ** うっかりセルを削除してしまったが、%history　で履歴を表示して復元することができた"
   ]
  },
  {
   "cell_type": "code",
   "execution_count": 5,
   "metadata": {},
   "outputs": [
    {
     "data": {
      "text/plain": [
       "array([[1, 2, 3],\n",
       "       [4, 5, 6]])"
      ]
     },
     "execution_count": 5,
     "metadata": {},
     "output_type": "execute_result"
    }
   ],
   "source": [
    "b = np.array([[1,2,3],[4,5,6]])\n",
    "b"
   ]
  },
  {
   "cell_type": "code",
   "execution_count": 6,
   "metadata": {},
   "outputs": [
    {
     "data": {
      "text/plain": [
       "(2, 3)"
      ]
     },
     "execution_count": 6,
     "metadata": {},
     "output_type": "execute_result"
    }
   ],
   "source": [
    "b.shape"
   ]
  },
  {
   "cell_type": "code",
   "execution_count": 7,
   "metadata": {},
   "outputs": [
    {
     "data": {
      "text/plain": [
       "array([0, 1, 2, 3, 4, 5])"
      ]
     },
     "execution_count": 7,
     "metadata": {},
     "output_type": "execute_result"
    }
   ],
   "source": [
    "c1 = np.array([0,1,2,3,4,5])\n",
    "c1"
   ]
  },
  {
   "cell_type": "code",
   "execution_count": 8,
   "metadata": {},
   "outputs": [],
   "source": [
    "c2 = c1.reshape((2,3))"
   ]
  },
  {
   "cell_type": "code",
   "execution_count": 9,
   "metadata": {},
   "outputs": [
    {
     "data": {
      "text/plain": [
       "array([[0, 1, 2],\n",
       "       [3, 4, 5]])"
      ]
     },
     "execution_count": 9,
     "metadata": {},
     "output_type": "execute_result"
    }
   ],
   "source": [
    "c2"
   ]
  },
  {
   "cell_type": "code",
   "execution_count": 11,
   "metadata": {},
   "outputs": [
    {
     "data": {
      "text/plain": [
       "array([0, 1, 2, 3, 4, 5])"
      ]
     },
     "execution_count": 11,
     "metadata": {},
     "output_type": "execute_result"
    }
   ],
   "source": [
    "c3 = c2.ravel()\n",
    "c3"
   ]
  },
  {
   "cell_type": "markdown",
   "metadata": {},
   "source": [
    "ravel 【他動】 〔編み物などを〕ほどく、ほぐす、解く もつれさせる"
   ]
  },
  {
   "cell_type": "code",
   "execution_count": 12,
   "metadata": {},
   "outputs": [
    {
     "data": {
      "text/plain": [
       "array([0, 1, 2, 3, 4, 5])"
      ]
     },
     "execution_count": 12,
     "metadata": {},
     "output_type": "execute_result"
    }
   ],
   "source": [
    "c4 = c2.flatten()\n",
    "c4"
   ]
  },
  {
   "cell_type": "markdown",
   "metadata": {},
   "source": [
    "---\n",
    "p094～ データ型(dtype)"
   ]
  },
  {
   "cell_type": "code",
   "execution_count": 14,
   "metadata": {},
   "outputs": [
    {
     "data": {
      "text/plain": [
       "dtype('int32')"
      ]
     },
     "execution_count": 14,
     "metadata": {},
     "output_type": "execute_result"
    }
   ],
   "source": [
    "a.dtype"
   ]
  },
  {
   "cell_type": "code",
   "execution_count": 16,
   "metadata": {},
   "outputs": [
    {
     "data": {
      "text/plain": [
       "array([1, 2], dtype=int16)"
      ]
     },
     "execution_count": 16,
     "metadata": {},
     "output_type": "execute_result"
    }
   ],
   "source": [
    "d = np.array([1,2],dtype=np.int16)\n",
    "d"
   ]
  },
  {
   "cell_type": "markdown",
   "metadata": {},
   "source": [
    "---\n",
    "p095～ インデックスとスライス"
   ]
  },
  {
   "cell_type": "code",
   "execution_count": 17,
   "metadata": {},
   "outputs": [
    {
     "data": {
      "text/plain": [
       "array([1, 2, 3])"
      ]
     },
     "execution_count": 17,
     "metadata": {},
     "output_type": "execute_result"
    }
   ],
   "source": [
    "a"
   ]
  },
  {
   "cell_type": "code",
   "execution_count": 28,
   "metadata": {},
   "outputs": [
    {
     "data": {
      "text/plain": [
       "array([2, 3])"
      ]
     },
     "execution_count": 28,
     "metadata": {},
     "output_type": "execute_result"
    }
   ],
   "source": [
    "a[1:]"
   ]
  },
  {
   "cell_type": "code",
   "execution_count": 32,
   "metadata": {},
   "outputs": [
    {
     "data": {
      "text/plain": [
       "3"
      ]
     },
     "execution_count": 32,
     "metadata": {},
     "output_type": "execute_result"
    }
   ],
   "source": [
    "a[-1]"
   ]
  },
  {
   "cell_type": "code",
   "execution_count": 33,
   "metadata": {},
   "outputs": [
    {
     "data": {
      "text/plain": [
       "array([[1, 2, 3],\n",
       "       [4, 5, 6]])"
      ]
     },
     "execution_count": 33,
     "metadata": {},
     "output_type": "execute_result"
    }
   ],
   "source": [
    "b"
   ]
  },
  {
   "cell_type": "code",
   "execution_count": 37,
   "metadata": {},
   "outputs": [
    {
     "data": {
      "text/plain": [
       "5"
      ]
     },
     "execution_count": 37,
     "metadata": {},
     "output_type": "execute_result"
    }
   ],
   "source": [
    "b[1][1]"
   ]
  },
  {
   "cell_type": "code",
   "execution_count": 38,
   "metadata": {},
   "outputs": [
    {
     "data": {
      "text/plain": [
       "5"
      ]
     },
     "execution_count": 38,
     "metadata": {},
     "output_type": "execute_result"
    }
   ],
   "source": [
    "b[1,1]"
   ]
  },
  {
   "cell_type": "code",
   "execution_count": 42,
   "metadata": {},
   "outputs": [
    {
     "data": {
      "text/plain": [
       "array([2, 5])"
      ]
     },
     "execution_count": 42,
     "metadata": {},
     "output_type": "execute_result"
    }
   ],
   "source": [
    "b[:,1]"
   ]
  },
  {
   "cell_type": "code",
   "execution_count": 47,
   "metadata": {},
   "outputs": [
    {
     "data": {
      "text/plain": [
       "array([0, 1, 2, 3, 4, 5, 6, 7, 8, 9])"
      ]
     },
     "execution_count": 47,
     "metadata": {},
     "output_type": "execute_result"
    }
   ],
   "source": [
    "e = np.array([0,1,2,3,4,5,6,7,8,9])\n",
    "e"
   ]
  },
  {
   "cell_type": "code",
   "execution_count": 50,
   "metadata": {},
   "outputs": [
    {
     "data": {
      "text/plain": [
       "array([3, 4, 5])"
      ]
     },
     "execution_count": 50,
     "metadata": {},
     "output_type": "execute_result"
    }
   ],
   "source": [
    "e[3:6]"
   ]
  },
  {
   "cell_type": "markdown",
   "metadata": {},
   "source": [
    "---\n",
    "p100～　深いコピー"
   ]
  },
  {
   "cell_type": "code",
   "execution_count": 54,
   "metadata": {},
   "outputs": [
    {
     "data": {
      "text/plain": [
       "array([1, 2, 3])"
      ]
     },
     "execution_count": 54,
     "metadata": {},
     "output_type": "execute_result"
    }
   ],
   "source": [
    "a = np.array([1,2,3])\n",
    "#これは浅いコピー（Shallow Copy）\n",
    "a1 = a\n",
    "a1"
   ]
  },
  {
   "cell_type": "code",
   "execution_count": 55,
   "metadata": {},
   "outputs": [
    {
     "data": {
      "text/plain": [
       "array([1, 5, 3])"
      ]
     },
     "execution_count": 55,
     "metadata": {},
     "output_type": "execute_result"
    }
   ],
   "source": [
    "a1[1] = 5\n",
    "a1"
   ]
  },
  {
   "cell_type": "code",
   "execution_count": 58,
   "metadata": {},
   "outputs": [
    {
     "data": {
      "text/plain": [
       "array([1, 5, 3])"
      ]
     },
     "execution_count": 58,
     "metadata": {},
     "output_type": "execute_result"
    }
   ],
   "source": [
    "a"
   ]
  },
  {
   "cell_type": "code",
   "execution_count": 60,
   "metadata": {},
   "outputs": [
    {
     "data": {
      "text/plain": [
       "array([1, 5, 3])"
      ]
     },
     "execution_count": 60,
     "metadata": {},
     "output_type": "execute_result"
    }
   ],
   "source": [
    "a2 = a.copy()\n",
    "a2"
   ]
  },
  {
   "cell_type": "code",
   "execution_count": 61,
   "metadata": {},
   "outputs": [
    {
     "data": {
      "text/plain": [
       "array([1, 6, 3])"
      ]
     },
     "execution_count": 61,
     "metadata": {},
     "output_type": "execute_result"
    }
   ],
   "source": [
    "a2[1] = 6\n",
    "a2"
   ]
  },
  {
   "cell_type": "code",
   "execution_count": 62,
   "metadata": {},
   "outputs": [
    {
     "data": {
      "text/plain": [
       "array([1, 5, 3])"
      ]
     },
     "execution_count": 62,
     "metadata": {},
     "output_type": "execute_result"
    }
   ],
   "source": [
    "a"
   ]
  },
  {
   "cell_type": "markdown",
   "metadata": {},
   "source": [
    "---\n",
    "p103～　Pythonでのスライス（コピー）と、Numpyでのスライス（参照渡し）の違い"
   ]
  },
  {
   "cell_type": "code",
   "execution_count": 63,
   "metadata": {},
   "outputs": [
    {
     "name": "stdout",
     "output_type": "stream",
     "text": [
      "[0, 1]\n",
      "[999, 1]\n"
     ]
    }
   ],
   "source": [
    "py_list1 = [0,1]\n",
    "py_list2 = py_list1[:]\n",
    "py_list2[0] = 999\n",
    "print(py_list1)\n",
    "print(py_list2)"
   ]
  },
  {
   "cell_type": "code",
   "execution_count": 66,
   "metadata": {},
   "outputs": [
    {
     "name": "stdout",
     "output_type": "stream",
     "text": [
      "[0, 1]\n",
      "[999, 1]\n"
     ]
    }
   ],
   "source": [
    "np_list1 = [0,1]\n",
    "np_list2 = np_list1[:]\n",
    "np_list2[0] = 999\n",
    "print(np_list1)\n",
    "print(np_list2)"
   ]
  },
  {
   "cell_type": "markdown",
   "metadata": {},
   "source": [
    "---\n",
    "p120～　ユニバーサルファンクション"
   ]
  },
  {
   "cell_type": "code",
   "execution_count": 67,
   "metadata": {},
   "outputs": [
    {
     "data": {
      "text/plain": [
       "[[3, 2, 1], [0, 1, 2]]"
      ]
     },
     "execution_count": 67,
     "metadata": {},
     "output_type": "execute_result"
    }
   ],
   "source": [
    "# 通常のPythonの場合\n",
    "li = [[-3,-2,-1],[0,1,2]]\n",
    "new = []\n",
    "\n",
    "# enumerateについては以下を参照\n",
    "# https://note.nkmk.me/python-enumerate-start/\n",
    "\n",
    "for i,j in enumerate(li):\n",
    "    new.append([])\n",
    "    for k in j:\n",
    "        new[i].append(abs(k)) #絶対値に変換\n",
    "new"
   ]
  },
  {
   "cell_type": "code",
   "execution_count": 69,
   "metadata": {},
   "outputs": [
    {
     "data": {
      "text/plain": [
       "array([[3, 2, 1],\n",
       "       [0, 1, 2]])"
      ]
     },
     "execution_count": 69,
     "metadata": {},
     "output_type": "execute_result"
    }
   ],
   "source": [
    "# Numpyの場合\n",
    "\n",
    "np.abs(li)"
   ]
  },
  {
   "cell_type": "code",
   "execution_count": 74,
   "metadata": {},
   "outputs": [
    {
     "name": "stdout",
     "output_type": "stream",
     "text": [
      "[[-3, -2, -1], [0, 1, 2]]\n"
     ]
    },
    {
     "data": {
      "text/plain": [
       "array([[-0.14112001, -0.90929743, -0.84147098],\n",
       "       [ 0.        ,  0.84147098,  0.90929743]])"
      ]
     },
     "execution_count": 74,
     "metadata": {},
     "output_type": "execute_result"
    }
   ],
   "source": [
    "print(li)\n",
    "np.sin(li)"
   ]
  },
  {
   "cell_type": "code",
   "execution_count": 79,
   "metadata": {},
   "outputs": [
    {
     "data": {
      "text/plain": [
       "1.000631880307906"
      ]
     },
     "execution_count": 79,
     "metadata": {},
     "output_type": "execute_result"
    }
   ],
   "source": [
    "ee = 2.72\n",
    "np.log(ee)"
   ]
  },
  {
   "cell_type": "code",
   "execution_count": 81,
   "metadata": {},
   "outputs": [
    {
     "data": {
      "text/plain": [
       "2.0"
      ]
     },
     "execution_count": 81,
     "metadata": {},
     "output_type": "execute_result"
    }
   ],
   "source": [
    "ff = 100\n",
    "np.log10(ff)"
   ]
  },
  {
   "cell_type": "code",
   "execution_count": 85,
   "metadata": {},
   "outputs": [
    {
     "data": {
      "text/plain": [
       "7.38905609893065"
      ]
     },
     "execution_count": 85,
     "metadata": {},
     "output_type": "execute_result"
    }
   ],
   "source": [
    "eee = 2\n",
    "np.exp(eee)"
   ]
  },
  {
   "cell_type": "markdown",
   "metadata": {},
   "source": [
    "---\n",
    "p133～\n",
    "## pandas"
   ]
  },
  {
   "cell_type": "code",
   "execution_count": 3,
   "metadata": {},
   "outputs": [],
   "source": [
    "import pandas as pd #結構、処理時間がかかる（数秒）"
   ]
  },
  {
   "cell_type": "markdown",
   "metadata": {},
   "source": [
    "p133～　Series（シリーズ）とは、1次元データ"
   ]
  },
  {
   "cell_type": "code",
   "execution_count": 4,
   "metadata": {},
   "outputs": [
    {
     "data": {
      "text/plain": [
       "0    10\n",
       "1    20\n",
       "2    30\n",
       "3    40\n",
       "dtype: int64"
      ]
     },
     "execution_count": 4,
     "metadata": {},
     "output_type": "execute_result"
    }
   ],
   "source": [
    "ser = pd.Series([10,20,30,40])\n",
    "ser"
   ]
  },
  {
   "cell_type": "markdown",
   "metadata": {},
   "source": [
    "4要素のSeriesオブジェクトを作成。すべて整数なので、自動的にint64というデータ型になる。"
   ]
  },
  {
   "cell_type": "markdown",
   "metadata": {},
   "source": [
    "---\n",
    "p134～　DataFrame  \n",
    "データフレームは2次元のデータ"
   ]
  },
  {
   "cell_type": "code",
   "execution_count": 5,
   "metadata": {},
   "outputs": [
    {
     "name": "stdout",
     "output_type": "stream",
     "text": [
      "    0  1      2\n",
      "0  10  a   True\n",
      "1  20  b  False\n",
      "2  30  c  False\n",
      "3  40  d   True\n"
     ]
    },
    {
     "data": {
      "text/html": [
       "<div>\n",
       "<style scoped>\n",
       "    .dataframe tbody tr th:only-of-type {\n",
       "        vertical-align: middle;\n",
       "    }\n",
       "\n",
       "    .dataframe tbody tr th {\n",
       "        vertical-align: top;\n",
       "    }\n",
       "\n",
       "    .dataframe thead th {\n",
       "        text-align: right;\n",
       "    }\n",
       "</style>\n",
       "<table border=\"1\" class=\"dataframe\">\n",
       "  <thead>\n",
       "    <tr style=\"text-align: right;\">\n",
       "      <th></th>\n",
       "      <th>0</th>\n",
       "      <th>1</th>\n",
       "      <th>2</th>\n",
       "    </tr>\n",
       "  </thead>\n",
       "  <tbody>\n",
       "    <tr>\n",
       "      <th>0</th>\n",
       "      <td>10</td>\n",
       "      <td>a</td>\n",
       "      <td>True</td>\n",
       "    </tr>\n",
       "    <tr>\n",
       "      <th>1</th>\n",
       "      <td>20</td>\n",
       "      <td>b</td>\n",
       "      <td>False</td>\n",
       "    </tr>\n",
       "    <tr>\n",
       "      <th>2</th>\n",
       "      <td>30</td>\n",
       "      <td>c</td>\n",
       "      <td>False</td>\n",
       "    </tr>\n",
       "    <tr>\n",
       "      <th>3</th>\n",
       "      <td>40</td>\n",
       "      <td>d</td>\n",
       "      <td>True</td>\n",
       "    </tr>\n",
       "  </tbody>\n",
       "</table>\n",
       "</div>"
      ],
      "text/plain": [
       "    0  1      2\n",
       "0  10  a   True\n",
       "1  20  b  False\n",
       "2  30  c  False\n",
       "3  40  d   True"
      ]
     },
     "execution_count": 5,
     "metadata": {},
     "output_type": "execute_result"
    }
   ],
   "source": [
    "df = pd.DataFrame([\n",
    "    [10,\"a\",True],\n",
    "    [20,\"b\",False],\n",
    "    [30,\"c\",False],\n",
    "    [40,\"d\",True]\n",
    "])\n",
    "\n",
    "#この二つは表示方法が違う\n",
    "\n",
    "print(df)\n",
    "df"
   ]
  },
  {
   "cell_type": "code",
   "execution_count": 100,
   "metadata": {},
   "outputs": [
    {
     "name": "stdout",
     "output_type": "stream",
     "text": [
      "<class 'pandas.core.frame.DataFrame'>\n",
      "<class 'pandas.core.series.Series'>\n"
     ]
    }
   ],
   "source": [
    "print(type(df))\n",
    "print(type(df[1]))\n",
    "\n",
    "# もし1つの列に複数のデータ型が混在している場合は、データ型はオブジェクトになる。\n",
    "# データ型がオブジェクトの場青は、数値計算はできない（p134）"
   ]
  },
  {
   "cell_type": "code",
   "execution_count": 6,
   "metadata": {},
   "outputs": [],
   "source": [
    "import numpy as np"
   ]
  },
  {
   "cell_type": "code",
   "execution_count": 7,
   "metadata": {},
   "outputs": [
    {
     "name": "stdout",
     "output_type": "stream",
     "text": [
      "[ 0  1  2  3  4  5  6  7  8  9 10 11 12 13 14 15 16 17 18 19 20 21 22 23\n",
      " 24 25 26 27 28 29 30 31 32 33 34 35 36 37 38 39 40 41 42 43 44 45 46 47\n",
      " 48 49 50 51 52 53 54 55 56 57 58 59 60 61 62 63 64 65 66 67 68 69 70 71\n",
      " 72 73 74 75 76 77 78 79 80 81 82 83 84 85 86 87 88 89 90 91 92 93 94 95\n",
      " 96 97 98 99]\n",
      "\n",
      "\n",
      "[[ 0  1  2  3]\n",
      " [ 4  5  6  7]\n",
      " [ 8  9 10 11]\n",
      " [12 13 14 15]\n",
      " [16 17 18 19]\n",
      " [20 21 22 23]\n",
      " [24 25 26 27]\n",
      " [28 29 30 31]\n",
      " [32 33 34 35]\n",
      " [36 37 38 39]\n",
      " [40 41 42 43]\n",
      " [44 45 46 47]\n",
      " [48 49 50 51]\n",
      " [52 53 54 55]\n",
      " [56 57 58 59]\n",
      " [60 61 62 63]\n",
      " [64 65 66 67]\n",
      " [68 69 70 71]\n",
      " [72 73 74 75]\n",
      " [76 77 78 79]\n",
      " [80 81 82 83]\n",
      " [84 85 86 87]\n",
      " [88 89 90 91]\n",
      " [92 93 94 95]\n",
      " [96 97 98 99]]\n"
     ]
    }
   ],
   "source": [
    "print(np.arange(100))\n",
    "print('\\n')\n",
    "print(np.arange(100).reshape((25,4)))"
   ]
  },
  {
   "cell_type": "code",
   "execution_count": 111,
   "metadata": {},
   "outputs": [
    {
     "data": {
      "text/plain": [
       "array([[ 0,  1,  2,  3],\n",
       "       [ 4,  5,  6,  7],\n",
       "       [ 8,  9, 10, 11],\n",
       "       [12, 13, 14, 15],\n",
       "       [16, 17, 18, 19],\n",
       "       [20, 21, 22, 23],\n",
       "       [24, 25, 26, 27],\n",
       "       [28, 29, 30, 31],\n",
       "       [32, 33, 34, 35],\n",
       "       [36, 37, 38, 39],\n",
       "       [40, 41, 42, 43],\n",
       "       [44, 45, 46, 47],\n",
       "       [48, 49, 50, 51],\n",
       "       [52, 53, 54, 55],\n",
       "       [56, 57, 58, 59],\n",
       "       [60, 61, 62, 63],\n",
       "       [64, 65, 66, 67],\n",
       "       [68, 69, 70, 71],\n",
       "       [72, 73, 74, 75],\n",
       "       [76, 77, 78, 79],\n",
       "       [80, 81, 82, 83],\n",
       "       [84, 85, 86, 87],\n",
       "       [88, 89, 90, 91],\n",
       "       [92, 93, 94, 95],\n",
       "       [96, 97, 98, 99]])"
      ]
     },
     "execution_count": 111,
     "metadata": {},
     "output_type": "execute_result"
    }
   ],
   "source": [
    "np1 = np.arange(100)\n",
    "np1.reshape((25,4))"
   ]
  },
  {
   "cell_type": "code",
   "execution_count": 8,
   "metadata": {},
   "outputs": [
    {
     "data": {
      "text/html": [
       "<div>\n",
       "<style scoped>\n",
       "    .dataframe tbody tr th:only-of-type {\n",
       "        vertical-align: middle;\n",
       "    }\n",
       "\n",
       "    .dataframe tbody tr th {\n",
       "        vertical-align: top;\n",
       "    }\n",
       "\n",
       "    .dataframe thead th {\n",
       "        text-align: right;\n",
       "    }\n",
       "</style>\n",
       "<table border=\"1\" class=\"dataframe\">\n",
       "  <thead>\n",
       "    <tr style=\"text-align: right;\">\n",
       "      <th></th>\n",
       "      <th>0</th>\n",
       "      <th>1</th>\n",
       "      <th>2</th>\n",
       "      <th>3</th>\n",
       "    </tr>\n",
       "  </thead>\n",
       "  <tbody>\n",
       "    <tr>\n",
       "      <th>0</th>\n",
       "      <td>0</td>\n",
       "      <td>1</td>\n",
       "      <td>2</td>\n",
       "      <td>3</td>\n",
       "    </tr>\n",
       "    <tr>\n",
       "      <th>1</th>\n",
       "      <td>4</td>\n",
       "      <td>5</td>\n",
       "      <td>6</td>\n",
       "      <td>7</td>\n",
       "    </tr>\n",
       "    <tr>\n",
       "      <th>2</th>\n",
       "      <td>8</td>\n",
       "      <td>9</td>\n",
       "      <td>10</td>\n",
       "      <td>11</td>\n",
       "    </tr>\n",
       "    <tr>\n",
       "      <th>3</th>\n",
       "      <td>12</td>\n",
       "      <td>13</td>\n",
       "      <td>14</td>\n",
       "      <td>15</td>\n",
       "    </tr>\n",
       "    <tr>\n",
       "      <th>4</th>\n",
       "      <td>16</td>\n",
       "      <td>17</td>\n",
       "      <td>18</td>\n",
       "      <td>19</td>\n",
       "    </tr>\n",
       "    <tr>\n",
       "      <th>5</th>\n",
       "      <td>20</td>\n",
       "      <td>21</td>\n",
       "      <td>22</td>\n",
       "      <td>23</td>\n",
       "    </tr>\n",
       "    <tr>\n",
       "      <th>6</th>\n",
       "      <td>24</td>\n",
       "      <td>25</td>\n",
       "      <td>26</td>\n",
       "      <td>27</td>\n",
       "    </tr>\n",
       "    <tr>\n",
       "      <th>7</th>\n",
       "      <td>28</td>\n",
       "      <td>29</td>\n",
       "      <td>30</td>\n",
       "      <td>31</td>\n",
       "    </tr>\n",
       "    <tr>\n",
       "      <th>8</th>\n",
       "      <td>32</td>\n",
       "      <td>33</td>\n",
       "      <td>34</td>\n",
       "      <td>35</td>\n",
       "    </tr>\n",
       "    <tr>\n",
       "      <th>9</th>\n",
       "      <td>36</td>\n",
       "      <td>37</td>\n",
       "      <td>38</td>\n",
       "      <td>39</td>\n",
       "    </tr>\n",
       "    <tr>\n",
       "      <th>10</th>\n",
       "      <td>40</td>\n",
       "      <td>41</td>\n",
       "      <td>42</td>\n",
       "      <td>43</td>\n",
       "    </tr>\n",
       "    <tr>\n",
       "      <th>11</th>\n",
       "      <td>44</td>\n",
       "      <td>45</td>\n",
       "      <td>46</td>\n",
       "      <td>47</td>\n",
       "    </tr>\n",
       "    <tr>\n",
       "      <th>12</th>\n",
       "      <td>48</td>\n",
       "      <td>49</td>\n",
       "      <td>50</td>\n",
       "      <td>51</td>\n",
       "    </tr>\n",
       "    <tr>\n",
       "      <th>13</th>\n",
       "      <td>52</td>\n",
       "      <td>53</td>\n",
       "      <td>54</td>\n",
       "      <td>55</td>\n",
       "    </tr>\n",
       "    <tr>\n",
       "      <th>14</th>\n",
       "      <td>56</td>\n",
       "      <td>57</td>\n",
       "      <td>58</td>\n",
       "      <td>59</td>\n",
       "    </tr>\n",
       "    <tr>\n",
       "      <th>15</th>\n",
       "      <td>60</td>\n",
       "      <td>61</td>\n",
       "      <td>62</td>\n",
       "      <td>63</td>\n",
       "    </tr>\n",
       "    <tr>\n",
       "      <th>16</th>\n",
       "      <td>64</td>\n",
       "      <td>65</td>\n",
       "      <td>66</td>\n",
       "      <td>67</td>\n",
       "    </tr>\n",
       "    <tr>\n",
       "      <th>17</th>\n",
       "      <td>68</td>\n",
       "      <td>69</td>\n",
       "      <td>70</td>\n",
       "      <td>71</td>\n",
       "    </tr>\n",
       "    <tr>\n",
       "      <th>18</th>\n",
       "      <td>72</td>\n",
       "      <td>73</td>\n",
       "      <td>74</td>\n",
       "      <td>75</td>\n",
       "    </tr>\n",
       "    <tr>\n",
       "      <th>19</th>\n",
       "      <td>76</td>\n",
       "      <td>77</td>\n",
       "      <td>78</td>\n",
       "      <td>79</td>\n",
       "    </tr>\n",
       "    <tr>\n",
       "      <th>20</th>\n",
       "      <td>80</td>\n",
       "      <td>81</td>\n",
       "      <td>82</td>\n",
       "      <td>83</td>\n",
       "    </tr>\n",
       "    <tr>\n",
       "      <th>21</th>\n",
       "      <td>84</td>\n",
       "      <td>85</td>\n",
       "      <td>86</td>\n",
       "      <td>87</td>\n",
       "    </tr>\n",
       "    <tr>\n",
       "      <th>22</th>\n",
       "      <td>88</td>\n",
       "      <td>89</td>\n",
       "      <td>90</td>\n",
       "      <td>91</td>\n",
       "    </tr>\n",
       "    <tr>\n",
       "      <th>23</th>\n",
       "      <td>92</td>\n",
       "      <td>93</td>\n",
       "      <td>94</td>\n",
       "      <td>95</td>\n",
       "    </tr>\n",
       "    <tr>\n",
       "      <th>24</th>\n",
       "      <td>96</td>\n",
       "      <td>97</td>\n",
       "      <td>98</td>\n",
       "      <td>99</td>\n",
       "    </tr>\n",
       "  </tbody>\n",
       "</table>\n",
       "</div>"
      ],
      "text/plain": [
       "     0   1   2   3\n",
       "0    0   1   2   3\n",
       "1    4   5   6   7\n",
       "2    8   9  10  11\n",
       "3   12  13  14  15\n",
       "4   16  17  18  19\n",
       "5   20  21  22  23\n",
       "6   24  25  26  27\n",
       "7   28  29  30  31\n",
       "8   32  33  34  35\n",
       "9   36  37  38  39\n",
       "10  40  41  42  43\n",
       "11  44  45  46  47\n",
       "12  48  49  50  51\n",
       "13  52  53  54  55\n",
       "14  56  57  58  59\n",
       "15  60  61  62  63\n",
       "16  64  65  66  67\n",
       "17  68  69  70  71\n",
       "18  72  73  74  75\n",
       "19  76  77  78  79\n",
       "20  80  81  82  83\n",
       "21  84  85  86  87\n",
       "22  88  89  90  91\n",
       "23  92  93  94  95\n",
       "24  96  97  98  99"
      ]
     },
     "execution_count": 8,
     "metadata": {},
     "output_type": "execute_result"
    }
   ],
   "source": [
    "df = pd.DataFrame(np.arange(100).reshape((25,4)))\n",
    "df"
   ]
  },
  {
   "cell_type": "code",
   "execution_count": 116,
   "metadata": {},
   "outputs": [
    {
     "data": {
      "text/html": [
       "<div>\n",
       "<style scoped>\n",
       "    .dataframe tbody tr th:only-of-type {\n",
       "        vertical-align: middle;\n",
       "    }\n",
       "\n",
       "    .dataframe tbody tr th {\n",
       "        vertical-align: top;\n",
       "    }\n",
       "\n",
       "    .dataframe thead th {\n",
       "        text-align: right;\n",
       "    }\n",
       "</style>\n",
       "<table border=\"1\" class=\"dataframe\">\n",
       "  <thead>\n",
       "    <tr style=\"text-align: right;\">\n",
       "      <th></th>\n",
       "      <th>0</th>\n",
       "      <th>1</th>\n",
       "      <th>2</th>\n",
       "      <th>3</th>\n",
       "    </tr>\n",
       "  </thead>\n",
       "  <tbody>\n",
       "    <tr>\n",
       "      <th>0</th>\n",
       "      <td>0</td>\n",
       "      <td>1</td>\n",
       "      <td>2</td>\n",
       "      <td>3</td>\n",
       "    </tr>\n",
       "    <tr>\n",
       "      <th>1</th>\n",
       "      <td>4</td>\n",
       "      <td>5</td>\n",
       "      <td>6</td>\n",
       "      <td>7</td>\n",
       "    </tr>\n",
       "    <tr>\n",
       "      <th>2</th>\n",
       "      <td>8</td>\n",
       "      <td>9</td>\n",
       "      <td>10</td>\n",
       "      <td>11</td>\n",
       "    </tr>\n",
       "    <tr>\n",
       "      <th>3</th>\n",
       "      <td>12</td>\n",
       "      <td>13</td>\n",
       "      <td>14</td>\n",
       "      <td>15</td>\n",
       "    </tr>\n",
       "    <tr>\n",
       "      <th>4</th>\n",
       "      <td>16</td>\n",
       "      <td>17</td>\n",
       "      <td>18</td>\n",
       "      <td>19</td>\n",
       "    </tr>\n",
       "  </tbody>\n",
       "</table>\n",
       "</div>"
      ],
      "text/plain": [
       "    0   1   2   3\n",
       "0   0   1   2   3\n",
       "1   4   5   6   7\n",
       "2   8   9  10  11\n",
       "3  12  13  14  15\n",
       "4  16  17  18  19"
      ]
     },
     "execution_count": 116,
     "metadata": {},
     "output_type": "execute_result"
    }
   ],
   "source": [
    "df.head()"
   ]
  },
  {
   "cell_type": "code",
   "execution_count": 117,
   "metadata": {},
   "outputs": [
    {
     "data": {
      "text/html": [
       "<div>\n",
       "<style scoped>\n",
       "    .dataframe tbody tr th:only-of-type {\n",
       "        vertical-align: middle;\n",
       "    }\n",
       "\n",
       "    .dataframe tbody tr th {\n",
       "        vertical-align: top;\n",
       "    }\n",
       "\n",
       "    .dataframe thead th {\n",
       "        text-align: right;\n",
       "    }\n",
       "</style>\n",
       "<table border=\"1\" class=\"dataframe\">\n",
       "  <thead>\n",
       "    <tr style=\"text-align: right;\">\n",
       "      <th></th>\n",
       "      <th>0</th>\n",
       "      <th>1</th>\n",
       "      <th>2</th>\n",
       "      <th>3</th>\n",
       "    </tr>\n",
       "  </thead>\n",
       "  <tbody>\n",
       "    <tr>\n",
       "      <th>20</th>\n",
       "      <td>80</td>\n",
       "      <td>81</td>\n",
       "      <td>82</td>\n",
       "      <td>83</td>\n",
       "    </tr>\n",
       "    <tr>\n",
       "      <th>21</th>\n",
       "      <td>84</td>\n",
       "      <td>85</td>\n",
       "      <td>86</td>\n",
       "      <td>87</td>\n",
       "    </tr>\n",
       "    <tr>\n",
       "      <th>22</th>\n",
       "      <td>88</td>\n",
       "      <td>89</td>\n",
       "      <td>90</td>\n",
       "      <td>91</td>\n",
       "    </tr>\n",
       "    <tr>\n",
       "      <th>23</th>\n",
       "      <td>92</td>\n",
       "      <td>93</td>\n",
       "      <td>94</td>\n",
       "      <td>95</td>\n",
       "    </tr>\n",
       "    <tr>\n",
       "      <th>24</th>\n",
       "      <td>96</td>\n",
       "      <td>97</td>\n",
       "      <td>98</td>\n",
       "      <td>99</td>\n",
       "    </tr>\n",
       "  </tbody>\n",
       "</table>\n",
       "</div>"
      ],
      "text/plain": [
       "     0   1   2   3\n",
       "20  80  81  82  83\n",
       "21  84  85  86  87\n",
       "22  88  89  90  91\n",
       "23  92  93  94  95\n",
       "24  96  97  98  99"
      ]
     },
     "execution_count": 117,
     "metadata": {},
     "output_type": "execute_result"
    }
   ],
   "source": [
    "df.tail()"
   ]
  },
  {
   "cell_type": "code",
   "execution_count": 119,
   "metadata": {},
   "outputs": [
    {
     "data": {
      "text/plain": [
       "(25, 4)"
      ]
     },
     "execution_count": 119,
     "metadata": {},
     "output_type": "execute_result"
    }
   ],
   "source": [
    "df.shape"
   ]
  },
  {
   "cell_type": "code",
   "execution_count": 122,
   "metadata": {},
   "outputs": [
    {
     "name": "stdout",
     "output_type": "stream",
     "text": [
      "T\n",
      "_AXIS_ALIASES\n",
      "_AXIS_IALIASES\n",
      "_AXIS_LEN\n",
      "_AXIS_NAMES\n",
      "_AXIS_NUMBERS\n",
      "_AXIS_ORDERS\n",
      "_AXIS_REVERSED\n",
      "_AXIS_SLICEMAP\n",
      "__abs__\n",
      "__add__\n",
      "__and__\n",
      "__array__\n",
      "__array_priority__\n",
      "__array_wrap__\n",
      "__bool__\n",
      "__bytes__\n",
      "__class__\n",
      "__contains__\n",
      "__copy__\n",
      "__deepcopy__\n",
      "__delattr__\n",
      "__delitem__\n",
      "__dict__\n",
      "__dir__\n",
      "__div__\n",
      "__doc__\n",
      "__eq__\n",
      "__finalize__\n",
      "__floordiv__\n",
      "__format__\n",
      "__ge__\n",
      "__getattr__\n",
      "__getattribute__\n",
      "__getitem__\n",
      "__getstate__\n",
      "__gt__\n",
      "__hash__\n",
      "__iadd__\n",
      "__iand__\n",
      "__ifloordiv__\n",
      "__imod__\n",
      "__imul__\n",
      "__init__\n",
      "__init_subclass__\n",
      "__invert__\n",
      "__ior__\n",
      "__ipow__\n",
      "__isub__\n",
      "__iter__\n",
      "__itruediv__\n",
      "__ixor__\n",
      "__le__\n",
      "__len__\n",
      "__lt__\n",
      "__matmul__\n",
      "__mod__\n",
      "__module__\n",
      "__mul__\n",
      "__ne__\n",
      "__neg__\n",
      "__new__\n",
      "__nonzero__\n",
      "__or__\n",
      "__pos__\n",
      "__pow__\n",
      "__radd__\n",
      "__rand__\n",
      "__rdiv__\n",
      "__reduce__\n",
      "__reduce_ex__\n",
      "__repr__\n",
      "__rfloordiv__\n",
      "__rmatmul__\n",
      "__rmod__\n",
      "__rmul__\n",
      "__ror__\n",
      "__round__\n",
      "__rpow__\n",
      "__rsub__\n",
      "__rtruediv__\n",
      "__rxor__\n",
      "__setattr__\n",
      "__setitem__\n",
      "__setstate__\n",
      "__sizeof__\n",
      "__str__\n",
      "__sub__\n",
      "__subclasshook__\n",
      "__truediv__\n",
      "__unicode__\n",
      "__weakref__\n",
      "__xor__\n",
      "_accessors\n",
      "_add_numeric_operations\n",
      "_add_series_only_operations\n",
      "_add_series_or_dataframe_operations\n",
      "_agg_by_level\n",
      "_agg_examples_doc\n",
      "_agg_summary_and_see_also_doc\n",
      "_aggregate\n",
      "_aggregate_multiple_funcs\n",
      "_align_frame\n",
      "_align_series\n",
      "_box_col_values\n",
      "_box_item_values\n",
      "_builtin_table\n",
      "_check_inplace_setting\n",
      "_check_is_chained_assignment_possible\n",
      "_check_label_or_level_ambiguity\n",
      "_check_percentile\n",
      "_check_setitem_copy\n",
      "_clear_item_cache\n",
      "_clip_with_one_bound\n",
      "_clip_with_scalar\n",
      "_combine_const\n",
      "_combine_frame\n",
      "_combine_match_columns\n",
      "_combine_match_index\n",
      "_consolidate\n",
      "_consolidate_inplace\n",
      "_construct_axes_dict\n",
      "_construct_axes_dict_for_slice\n",
      "_construct_axes_dict_from\n",
      "_construct_axes_from_arguments\n",
      "_constructor\n",
      "_constructor_expanddim\n",
      "_constructor_sliced\n",
      "_convert\n",
      "_count_level\n",
      "_create_indexer\n",
      "_cython_table\n",
      "_deprecations\n",
      "_dir_additions\n",
      "_dir_deletions\n",
      "_drop_axis\n",
      "_drop_labels_or_levels\n",
      "_ensure_valid_index\n",
      "_expand_axes\n",
      "_find_valid_index\n",
      "_from_arrays\n",
      "_from_axes\n",
      "_get_agg_axis\n",
      "_get_axis\n",
      "_get_axis_name\n",
      "_get_axis_number\n",
      "_get_axis_resolvers\n",
      "_get_block_manager_axis\n",
      "_get_bool_data\n",
      "_get_cacher\n",
      "_get_index_resolvers\n",
      "_get_item_cache\n",
      "_get_label_or_level_values\n",
      "_get_numeric_data\n",
      "_get_value\n",
      "_get_values\n",
      "_getitem_bool_array\n",
      "_getitem_frame\n",
      "_getitem_multilevel\n",
      "_gotitem\n",
      "_iget_item_cache\n",
      "_indexed_same\n",
      "_info_axis\n",
      "_info_axis_name\n",
      "_info_axis_number\n",
      "_info_repr\n",
      "_init_mgr\n",
      "_internal_names\n",
      "_internal_names_set\n",
      "_is_builtin_func\n",
      "_is_cached\n",
      "_is_copy\n",
      "_is_cython_func\n",
      "_is_datelike_mixed_type\n",
      "_is_homogeneous_type\n",
      "_is_label_or_level_reference\n",
      "_is_label_reference\n",
      "_is_level_reference\n",
      "_is_mixed_type\n",
      "_is_numeric_mixed_type\n",
      "_is_view\n",
      "_ix\n",
      "_ixs\n",
      "_join_compat\n",
      "_maybe_cache_changed\n",
      "_maybe_update_cacher\n",
      "_metadata\n",
      "_needs_reindex_multi\n",
      "_obj_with_exclusions\n",
      "_protect_consolidate\n",
      "_reduce\n",
      "_reindex_axes\n",
      "_reindex_columns\n",
      "_reindex_index\n",
      "_reindex_multi\n",
      "_reindex_with_indexers\n",
      "_repr_data_resource_\n",
      "_repr_fits_horizontal_\n",
      "_repr_fits_vertical_\n",
      "_repr_html_\n",
      "_repr_latex_\n",
      "_reset_cache\n",
      "_reset_cacher\n",
      "_sanitize_column\n",
      "_selected_obj\n",
      "_selection\n",
      "_selection_list\n",
      "_selection_name\n",
      "_series\n",
      "_set_as_cached\n",
      "_set_axis\n",
      "_set_axis_name\n",
      "_set_is_copy\n",
      "_set_item\n",
      "_set_value\n",
      "_setitem_array\n",
      "_setitem_frame\n",
      "_setitem_slice\n",
      "_setup_axes\n",
      "_shallow_copy\n",
      "_slice\n",
      "_stat_axis\n",
      "_stat_axis_name\n",
      "_stat_axis_number\n",
      "_take\n",
      "_to_dict_of_blocks\n",
      "_try_aggregate_string_function\n",
      "_typ\n",
      "_unpickle_frame_compat\n",
      "_unpickle_matrix_compat\n",
      "_update_inplace\n",
      "_validate_dtype\n",
      "_values\n",
      "_where\n",
      "_xs\n",
      "abs\n",
      "add\n",
      "add_prefix\n",
      "add_suffix\n",
      "agg\n",
      "aggregate\n",
      "align\n",
      "all\n",
      "any\n",
      "append\n",
      "apply\n",
      "applymap\n",
      "as_matrix\n",
      "asfreq\n",
      "asof\n",
      "assign\n",
      "astype\n",
      "at\n",
      "at_time\n",
      "axes\n",
      "between_time\n",
      "bfill\n",
      "bool\n",
      "boxplot\n",
      "clip\n",
      "clip_lower\n",
      "clip_upper\n",
      "columns\n",
      "combine\n",
      "combine_first\n",
      "compound\n",
      "copy\n",
      "corr\n",
      "corrwith\n",
      "count\n",
      "cov\n",
      "cummax\n",
      "cummin\n",
      "cumprod\n",
      "cumsum\n",
      "describe\n",
      "diff\n",
      "div\n",
      "divide\n",
      "dot\n",
      "drop\n",
      "drop_duplicates\n",
      "droplevel\n",
      "dropna\n",
      "dtypes\n",
      "duplicated\n",
      "empty\n",
      "eq\n",
      "equals\n",
      "eval\n",
      "ewm\n",
      "expanding\n",
      "ffill\n",
      "fillna\n",
      "filter\n",
      "first\n",
      "first_valid_index\n",
      "floordiv\n",
      "from_dict\n",
      "from_records\n",
      "ftypes\n",
      "ge\n",
      "get\n",
      "get_dtype_counts\n",
      "get_ftype_counts\n",
      "get_values\n",
      "groupby\n",
      "gt\n",
      "head\n",
      "hist\n",
      "iat\n",
      "idxmax\n",
      "idxmin\n",
      "iloc\n",
      "index\n",
      "infer_objects\n",
      "info\n",
      "insert\n",
      "interpolate\n",
      "isin\n",
      "isna\n",
      "isnull\n",
      "items\n",
      "iteritems\n",
      "iterrows\n",
      "itertuples\n",
      "ix\n",
      "join\n",
      "keys\n",
      "kurt\n",
      "kurtosis\n",
      "last\n",
      "last_valid_index\n",
      "le\n",
      "loc\n",
      "lookup\n",
      "lt\n",
      "mad\n",
      "mask\n",
      "max\n",
      "mean\n",
      "median\n",
      "melt\n",
      "memory_usage\n",
      "merge\n",
      "min\n",
      "mod\n",
      "mode\n",
      "mul\n",
      "multiply\n",
      "ndim\n",
      "ne\n",
      "nlargest\n",
      "notna\n",
      "notnull\n",
      "nsmallest\n",
      "nunique\n",
      "pct_change\n",
      "pipe\n",
      "pivot\n",
      "pivot_table\n",
      "plot\n",
      "pop\n",
      "pow\n",
      "prod\n",
      "product\n",
      "quantile\n",
      "query\n",
      "radd\n",
      "rank\n",
      "rdiv\n",
      "reindex\n",
      "reindex_axis\n",
      "reindex_like\n",
      "rename\n",
      "rename_axis\n",
      "reorder_levels\n",
      "replace\n",
      "resample\n",
      "reset_index\n",
      "rfloordiv\n",
      "rmod\n",
      "rmul\n",
      "rolling\n",
      "round\n",
      "rpow\n",
      "rsub\n",
      "rtruediv\n",
      "sample\n",
      "select\n",
      "select_dtypes\n",
      "sem\n",
      "set_axis\n",
      "set_index\n",
      "shape\n",
      "shift\n",
      "size\n",
      "skew\n",
      "slice_shift\n",
      "sort_index\n",
      "sort_values\n",
      "squeeze\n",
      "stack\n",
      "std\n",
      "style\n",
      "sub\n",
      "subtract\n",
      "sum\n",
      "swapaxes\n",
      "swaplevel\n",
      "tail\n",
      "take\n",
      "timetuple\n",
      "to_clipboard\n",
      "to_csv\n",
      "to_dense\n",
      "to_dict\n",
      "to_excel\n",
      "to_feather\n",
      "to_gbq\n",
      "to_hdf\n",
      "to_html\n",
      "to_json\n",
      "to_latex\n",
      "to_msgpack\n",
      "to_numpy\n",
      "to_panel\n",
      "to_parquet\n",
      "to_period\n",
      "to_pickle\n",
      "to_records\n",
      "to_sparse\n",
      "to_sql\n",
      "to_stata\n",
      "to_string\n",
      "to_timestamp\n",
      "to_xarray\n",
      "transform\n",
      "transpose\n",
      "truediv\n",
      "truncate\n",
      "tshift\n",
      "tz_convert\n",
      "tz_localize\n",
      "unstack\n",
      "update\n",
      "values\n",
      "var\n",
      "where\n",
      "xs\n"
     ]
    }
   ],
   "source": [
    "# 寄り道コンテンツ\n",
    "for x in dir(df):\n",
    "    print(x)\n",
    "# オブジェクトのメソッド一覧を取得する\n",
    "# https://qiita.com/suin/items/b15f908aaf8023a8a1fc"
   ]
  },
  {
   "cell_type": "code",
   "execution_count": 15,
   "metadata": {},
   "outputs": [
    {
     "data": {
      "text/html": [
       "<div>\n",
       "<style scoped>\n",
       "    .dataframe tbody tr th:only-of-type {\n",
       "        vertical-align: middle;\n",
       "    }\n",
       "\n",
       "    .dataframe tbody tr th {\n",
       "        vertical-align: top;\n",
       "    }\n",
       "\n",
       "    .dataframe thead th {\n",
       "        text-align: right;\n",
       "    }\n",
       "</style>\n",
       "<table border=\"1\" class=\"dataframe\">\n",
       "  <thead>\n",
       "    <tr style=\"text-align: right;\">\n",
       "      <th></th>\n",
       "      <th>A</th>\n",
       "      <th>B</th>\n",
       "    </tr>\n",
       "  </thead>\n",
       "  <tbody>\n",
       "    <tr>\n",
       "      <th>01</th>\n",
       "      <td>0</td>\n",
       "      <td>1</td>\n",
       "    </tr>\n",
       "    <tr>\n",
       "      <th>02</th>\n",
       "      <td>2</td>\n",
       "      <td>3</td>\n",
       "    </tr>\n",
       "    <tr>\n",
       "      <th>03</th>\n",
       "      <td>4</td>\n",
       "      <td>5</td>\n",
       "    </tr>\n",
       "  </tbody>\n",
       "</table>\n",
       "</div>"
      ],
      "text/plain": [
       "    A  B\n",
       "01  0  1\n",
       "02  2  3\n",
       "03  4  5"
      ]
     },
     "execution_count": 15,
     "metadata": {},
     "output_type": "execute_result"
    }
   ],
   "source": [
    "df = pd.DataFrame(np.arange(6).reshape((3,2)))\n",
    "df.index = [\"01\",\"02\",\"03\"]\n",
    "df.columns = [\"A\",\"B\"]\n",
    "df"
   ]
  },
  {
   "cell_type": "code",
   "execution_count": 16,
   "metadata": {},
   "outputs": [
    {
     "data": {
      "text/html": [
       "<div>\n",
       "<style scoped>\n",
       "    .dataframe tbody tr th:only-of-type {\n",
       "        vertical-align: middle;\n",
       "    }\n",
       "\n",
       "    .dataframe tbody tr th {\n",
       "        vertical-align: top;\n",
       "    }\n",
       "\n",
       "    .dataframe thead th {\n",
       "        text-align: right;\n",
       "    }\n",
       "</style>\n",
       "<table border=\"1\" class=\"dataframe\">\n",
       "  <thead>\n",
       "    <tr style=\"text-align: right;\">\n",
       "      <th></th>\n",
       "      <th>A</th>\n",
       "      <th>B</th>\n",
       "      <th>C</th>\n",
       "    </tr>\n",
       "  </thead>\n",
       "  <tbody>\n",
       "    <tr>\n",
       "      <th>1行目</th>\n",
       "      <td>0</td>\n",
       "      <td>1</td>\n",
       "      <td>2</td>\n",
       "    </tr>\n",
       "    <tr>\n",
       "      <th>2行目</th>\n",
       "      <td>3</td>\n",
       "      <td>4</td>\n",
       "      <td>5</td>\n",
       "    </tr>\n",
       "    <tr>\n",
       "      <th>3行目</th>\n",
       "      <td>6</td>\n",
       "      <td>7</td>\n",
       "      <td>8</td>\n",
       "    </tr>\n",
       "    <tr>\n",
       "      <th>4行目</th>\n",
       "      <td>9</td>\n",
       "      <td>10</td>\n",
       "      <td>11</td>\n",
       "    </tr>\n",
       "  </tbody>\n",
       "</table>\n",
       "</div>"
      ],
      "text/plain": [
       "     A   B   C\n",
       "1行目  0   1   2\n",
       "2行目  3   4   5\n",
       "3行目  6   7   8\n",
       "4行目  9  10  11"
      ]
     },
     "execution_count": 16,
     "metadata": {},
     "output_type": "execute_result"
    }
   ],
   "source": [
    "import numpy as np\n",
    "import pandas as pd\n",
    "\n",
    "df = pd.DataFrame(np.arange(12).reshape((4,3)))\n",
    "df.columns=[\"A\",\"B\",\"C\"]\n",
    "df.index=[\"1行目\",\"2行目\",\"3行目\",\"4行目\"]\n",
    "df"
   ]
  },
  {
   "cell_type": "code",
   "execution_count": 20,
   "metadata": {},
   "outputs": [
    {
     "data": {
      "text/html": [
       "<div>\n",
       "<style scoped>\n",
       "    .dataframe tbody tr th:only-of-type {\n",
       "        vertical-align: middle;\n",
       "    }\n",
       "\n",
       "    .dataframe tbody tr th {\n",
       "        vertical-align: top;\n",
       "    }\n",
       "\n",
       "    .dataframe thead th {\n",
       "        text-align: right;\n",
       "    }\n",
       "</style>\n",
       "<table border=\"1\" class=\"dataframe\">\n",
       "  <thead>\n",
       "    <tr style=\"text-align: right;\">\n",
       "      <th></th>\n",
       "      <th>A</th>\n",
       "      <th>B</th>\n",
       "    </tr>\n",
       "  </thead>\n",
       "  <tbody>\n",
       "    <tr>\n",
       "      <th>1行目</th>\n",
       "      <td>0</td>\n",
       "      <td>1</td>\n",
       "    </tr>\n",
       "    <tr>\n",
       "      <th>2行目</th>\n",
       "      <td>3</td>\n",
       "      <td>4</td>\n",
       "    </tr>\n",
       "    <tr>\n",
       "      <th>3行目</th>\n",
       "      <td>6</td>\n",
       "      <td>7</td>\n",
       "    </tr>\n",
       "    <tr>\n",
       "      <th>4行目</th>\n",
       "      <td>9</td>\n",
       "      <td>10</td>\n",
       "    </tr>\n",
       "  </tbody>\n",
       "</table>\n",
       "</div>"
      ],
      "text/plain": [
       "     A   B\n",
       "1行目  0   1\n",
       "2行目  3   4\n",
       "3行目  6   7\n",
       "4行目  9  10"
      ]
     },
     "execution_count": 20,
     "metadata": {},
     "output_type": "execute_result"
    }
   ],
   "source": [
    "df[[\"A\",\"B\"]]"
   ]
  },
  {
   "cell_type": "code",
   "execution_count": 33,
   "metadata": {},
   "outputs": [
    {
     "data": {
      "text/plain": [
       "pandas.core.frame.DataFrame"
      ]
     },
     "execution_count": 33,
     "metadata": {},
     "output_type": "execute_result"
    }
   ],
   "source": [
    "df2 = df[1:3]\n",
    "df2[\"A\"]\n",
    "type(df2)"
   ]
  },
  {
   "cell_type": "markdown",
   "metadata": {},
   "source": [
    "---\n",
    "p140～ DataFrameの locとilocメソッド"
   ]
  },
  {
   "cell_type": "code",
   "execution_count": 34,
   "metadata": {},
   "outputs": [
    {
     "data": {
      "text/html": [
       "<div>\n",
       "<style scoped>\n",
       "    .dataframe tbody tr th:only-of-type {\n",
       "        vertical-align: middle;\n",
       "    }\n",
       "\n",
       "    .dataframe tbody tr th {\n",
       "        vertical-align: top;\n",
       "    }\n",
       "\n",
       "    .dataframe thead th {\n",
       "        text-align: right;\n",
       "    }\n",
       "</style>\n",
       "<table border=\"1\" class=\"dataframe\">\n",
       "  <thead>\n",
       "    <tr style=\"text-align: right;\">\n",
       "      <th></th>\n",
       "      <th>A</th>\n",
       "      <th>B</th>\n",
       "      <th>C</th>\n",
       "    </tr>\n",
       "  </thead>\n",
       "  <tbody>\n",
       "    <tr>\n",
       "      <th>1行目</th>\n",
       "      <td>0</td>\n",
       "      <td>1</td>\n",
       "      <td>2</td>\n",
       "    </tr>\n",
       "    <tr>\n",
       "      <th>2行目</th>\n",
       "      <td>3</td>\n",
       "      <td>4</td>\n",
       "      <td>5</td>\n",
       "    </tr>\n",
       "    <tr>\n",
       "      <th>3行目</th>\n",
       "      <td>6</td>\n",
       "      <td>7</td>\n",
       "      <td>8</td>\n",
       "    </tr>\n",
       "    <tr>\n",
       "      <th>4行目</th>\n",
       "      <td>9</td>\n",
       "      <td>10</td>\n",
       "      <td>11</td>\n",
       "    </tr>\n",
       "  </tbody>\n",
       "</table>\n",
       "</div>"
      ],
      "text/plain": [
       "     A   B   C\n",
       "1行目  0   1   2\n",
       "2行目  3   4   5\n",
       "3行目  6   7   8\n",
       "4行目  9  10  11"
      ]
     },
     "execution_count": 34,
     "metadata": {},
     "output_type": "execute_result"
    }
   ],
   "source": [
    "df"
   ]
  },
  {
   "cell_type": "code",
   "execution_count": 35,
   "metadata": {},
   "outputs": [
    {
     "data": {
      "text/html": [
       "<div>\n",
       "<style scoped>\n",
       "    .dataframe tbody tr th:only-of-type {\n",
       "        vertical-align: middle;\n",
       "    }\n",
       "\n",
       "    .dataframe tbody tr th {\n",
       "        vertical-align: top;\n",
       "    }\n",
       "\n",
       "    .dataframe thead th {\n",
       "        text-align: right;\n",
       "    }\n",
       "</style>\n",
       "<table border=\"1\" class=\"dataframe\">\n",
       "  <thead>\n",
       "    <tr style=\"text-align: right;\">\n",
       "      <th></th>\n",
       "      <th>A</th>\n",
       "      <th>B</th>\n",
       "      <th>C</th>\n",
       "    </tr>\n",
       "  </thead>\n",
       "  <tbody>\n",
       "    <tr>\n",
       "      <th>1行目</th>\n",
       "      <td>0</td>\n",
       "      <td>1</td>\n",
       "      <td>2</td>\n",
       "    </tr>\n",
       "    <tr>\n",
       "      <th>2行目</th>\n",
       "      <td>3</td>\n",
       "      <td>4</td>\n",
       "      <td>5</td>\n",
       "    </tr>\n",
       "    <tr>\n",
       "      <th>3行目</th>\n",
       "      <td>6</td>\n",
       "      <td>7</td>\n",
       "      <td>8</td>\n",
       "    </tr>\n",
       "    <tr>\n",
       "      <th>4行目</th>\n",
       "      <td>9</td>\n",
       "      <td>10</td>\n",
       "      <td>11</td>\n",
       "    </tr>\n",
       "  </tbody>\n",
       "</table>\n",
       "</div>"
      ],
      "text/plain": [
       "     A   B   C\n",
       "1行目  0   1   2\n",
       "2行目  3   4   5\n",
       "3行目  6   7   8\n",
       "4行目  9  10  11"
      ]
     },
     "execution_count": 35,
     "metadata": {},
     "output_type": "execute_result"
    }
   ],
   "source": [
    "df.loc[:,:]"
   ]
  },
  {
   "cell_type": "code",
   "execution_count": 42,
   "metadata": {},
   "outputs": [
    {
     "data": {
      "text/plain": [
       "A    0\n",
       "B    1\n",
       "Name: 1行目, dtype: int32"
      ]
     },
     "execution_count": 42,
     "metadata": {},
     "output_type": "execute_result"
    }
   ],
   "source": [
    "df.loc[\"1行目\",[\"A\",\"B\"]]"
   ]
  },
  {
   "cell_type": "code",
   "execution_count": 49,
   "metadata": {},
   "outputs": [
    {
     "data": {
      "text/html": [
       "<div>\n",
       "<style scoped>\n",
       "    .dataframe tbody tr th:only-of-type {\n",
       "        vertical-align: middle;\n",
       "    }\n",
       "\n",
       "    .dataframe tbody tr th {\n",
       "        vertical-align: top;\n",
       "    }\n",
       "\n",
       "    .dataframe thead th {\n",
       "        text-align: right;\n",
       "    }\n",
       "</style>\n",
       "<table border=\"1\" class=\"dataframe\">\n",
       "  <thead>\n",
       "    <tr style=\"text-align: right;\">\n",
       "      <th></th>\n",
       "      <th>A</th>\n",
       "      <th>B</th>\n",
       "    </tr>\n",
       "  </thead>\n",
       "  <tbody>\n",
       "    <tr>\n",
       "      <th>2行目</th>\n",
       "      <td>3</td>\n",
       "      <td>4</td>\n",
       "    </tr>\n",
       "    <tr>\n",
       "      <th>3行目</th>\n",
       "      <td>6</td>\n",
       "      <td>7</td>\n",
       "    </tr>\n",
       "  </tbody>\n",
       "</table>\n",
       "</div>"
      ],
      "text/plain": [
       "     A  B\n",
       "2行目  3  4\n",
       "3行目  6  7"
      ]
     },
     "execution_count": 49,
     "metadata": {},
     "output_type": "execute_result"
    }
   ],
   "source": [
    "df.iloc[1:3,0:2]"
   ]
  },
  {
   "cell_type": "code",
   "execution_count": 51,
   "metadata": {},
   "outputs": [
    {
     "data": {
      "text/html": [
       "<div>\n",
       "<style scoped>\n",
       "    .dataframe tbody tr th:only-of-type {\n",
       "        vertical-align: middle;\n",
       "    }\n",
       "\n",
       "    .dataframe tbody tr th {\n",
       "        vertical-align: top;\n",
       "    }\n",
       "\n",
       "    .dataframe thead th {\n",
       "        text-align: right;\n",
       "    }\n",
       "</style>\n",
       "<table border=\"1\" class=\"dataframe\">\n",
       "  <thead>\n",
       "    <tr style=\"text-align: right;\">\n",
       "      <th></th>\n",
       "      <th>clinical_text</th>\n",
       "      <th>positive_symptom</th>\n",
       "      <th>negative_symptom</th>\n",
       "      <th>past_history</th>\n",
       "    </tr>\n",
       "  </thead>\n",
       "  <tbody>\n",
       "    <tr>\n",
       "      <th>0</th>\n",
       "      <td>今朝から突然の腰痛があり、吐き始めた。お腹の痛みなし。既往歴に、尿路結石、1型糖尿病。</td>\n",
       "      <td>腰痛,嘔吐</td>\n",
       "      <td>腹痛</td>\n",
       "      <td>尿路結石,2型糖尿病</td>\n",
       "    </tr>\n",
       "    <tr>\n",
       "      <th>1</th>\n",
       "      <td>昨日から腹痛があり、本日発熱あり。嘔気あったが、吐かなかった。</td>\n",
       "      <td>腹痛,発熱,嘔気</td>\n",
       "      <td>嘔吐</td>\n",
       "      <td>NaN</td>\n",
       "    </tr>\n",
       "    <tr>\n",
       "      <th>2</th>\n",
       "      <td>3日前から体のだるさがあったが、熱はなかった。本日は息苦しさがあり、一度吐いたが、気分はよく...</td>\n",
       "      <td>倦怠感,呼吸苦,嘔吐</td>\n",
       "      <td>発熱</td>\n",
       "      <td>気管支喘息,糖尿病</td>\n",
       "    </tr>\n",
       "    <tr>\n",
       "      <th>3</th>\n",
       "      <td>4週間前から咳、痰が続いている。熱(-), 鼻汁(-)\\n既往歴: 緩徐進行型1型糖尿病</td>\n",
       "      <td>咳嗽,喀痰</td>\n",
       "      <td>発熱,鼻汁</td>\n",
       "      <td>緩徐進行型1型糖尿病</td>\n",
       "    </tr>\n",
       "  </tbody>\n",
       "</table>\n",
       "</div>"
      ],
      "text/plain": [
       "                                       clinical_text positive_symptom  \\\n",
       "0        今朝から突然の腰痛があり、吐き始めた。お腹の痛みなし。既往歴に、尿路結石、1型糖尿病。            腰痛,嘔吐   \n",
       "1                    昨日から腹痛があり、本日発熱あり。嘔気あったが、吐かなかった。         腹痛,発熱,嘔気   \n",
       "2  3日前から体のだるさがあったが、熱はなかった。本日は息苦しさがあり、一度吐いたが、気分はよく...       倦怠感,呼吸苦,嘔吐   \n",
       "3       4週間前から咳、痰が続いている。熱(-), 鼻汁(-)\\n既往歴: 緩徐進行型1型糖尿病            咳嗽,喀痰   \n",
       "\n",
       "  negative_symptom past_history  \n",
       "0               腹痛   尿路結石,2型糖尿病  \n",
       "1               嘔吐          NaN  \n",
       "2               発熱    気管支喘息,糖尿病  \n",
       "3            発熱,鼻汁   緩徐進行型1型糖尿病  "
      ]
     },
     "execution_count": 51,
     "metadata": {},
     "output_type": "execute_result"
    }
   ],
   "source": [
    "import pandas as pd\n",
    "df = pd.read_csv(\"clinical_text_sample_utf-8.csv\",encoding=\"utf-8\")\n",
    "df"
   ]
  },
  {
   "cell_type": "code",
   "execution_count": 57,
   "metadata": {},
   "outputs": [],
   "source": [
    "df = pd.read_excel(\"新規解析者向け課題.xlsx\", sheet_name=1)\n",
    "df.to_csv(\"write_data.csv\")"
   ]
  },
  {
   "cell_type": "markdown",
   "metadata": {},
   "source": [
    "---\n",
    "## d-stats  \n",
    "practiceのpractice"
   ]
  },
  {
   "cell_type": "code",
   "execution_count": 58,
   "metadata": {},
   "outputs": [
    {
     "data": {
      "text/html": [
       "<div>\n",
       "<style scoped>\n",
       "    .dataframe tbody tr th:only-of-type {\n",
       "        vertical-align: middle;\n",
       "    }\n",
       "\n",
       "    .dataframe tbody tr th {\n",
       "        vertical-align: top;\n",
       "    }\n",
       "\n",
       "    .dataframe thead th {\n",
       "        text-align: right;\n",
       "    }\n",
       "</style>\n",
       "<table border=\"1\" class=\"dataframe\">\n",
       "  <thead>\n",
       "    <tr style=\"text-align: right;\">\n",
       "      <th></th>\n",
       "      <th>clinical_text</th>\n",
       "      <th>positive_symptom</th>\n",
       "      <th>negative_symptom</th>\n",
       "      <th>past_history</th>\n",
       "    </tr>\n",
       "  </thead>\n",
       "  <tbody>\n",
       "    <tr>\n",
       "      <th>0</th>\n",
       "      <td>今朝から突然の腰痛があり、吐き始めた。お腹の痛みなし。既往歴に、尿路結石、1型糖尿病。</td>\n",
       "      <td>腰痛,嘔吐</td>\n",
       "      <td>腹痛</td>\n",
       "      <td>尿路結石,2型糖尿病</td>\n",
       "    </tr>\n",
       "    <tr>\n",
       "      <th>1</th>\n",
       "      <td>昨日から腹痛があり、本日発熱あり。嘔気あったが、吐かなかった。</td>\n",
       "      <td>腹痛,発熱,嘔気</td>\n",
       "      <td>嘔吐</td>\n",
       "      <td>NaN</td>\n",
       "    </tr>\n",
       "    <tr>\n",
       "      <th>2</th>\n",
       "      <td>3日前から体のだるさがあったが、熱はなかった。本日は息苦しさがあり、一度吐いたが、気分はよく...</td>\n",
       "      <td>倦怠感,呼吸苦,嘔吐</td>\n",
       "      <td>発熱</td>\n",
       "      <td>気管支喘息,糖尿病</td>\n",
       "    </tr>\n",
       "    <tr>\n",
       "      <th>3</th>\n",
       "      <td>4週間前から咳、痰が続いている。熱(-), 鼻汁(-)\\n既往歴: 緩徐進行型1型糖尿病</td>\n",
       "      <td>咳嗽,喀痰</td>\n",
       "      <td>発熱,鼻汁</td>\n",
       "      <td>緩徐進行型1型糖尿病</td>\n",
       "    </tr>\n",
       "  </tbody>\n",
       "</table>\n",
       "</div>"
      ],
      "text/plain": [
       "                                       clinical_text positive_symptom  \\\n",
       "0        今朝から突然の腰痛があり、吐き始めた。お腹の痛みなし。既往歴に、尿路結石、1型糖尿病。            腰痛,嘔吐   \n",
       "1                    昨日から腹痛があり、本日発熱あり。嘔気あったが、吐かなかった。         腹痛,発熱,嘔気   \n",
       "2  3日前から体のだるさがあったが、熱はなかった。本日は息苦しさがあり、一度吐いたが、気分はよく...       倦怠感,呼吸苦,嘔吐   \n",
       "3       4週間前から咳、痰が続いている。熱(-), 鼻汁(-)\\n既往歴: 緩徐進行型1型糖尿病            咳嗽,喀痰   \n",
       "\n",
       "  negative_symptom past_history  \n",
       "0               腹痛   尿路結石,2型糖尿病  \n",
       "1               嘔吐          NaN  \n",
       "2               発熱    気管支喘息,糖尿病  \n",
       "3            発熱,鼻汁   緩徐進行型1型糖尿病  "
      ]
     },
     "execution_count": 58,
     "metadata": {},
     "output_type": "execute_result"
    }
   ],
   "source": [
    "import pandas as pd\n",
    "import numpy as np\n",
    "\n",
    "df = pd.read_csv(\"clinical_text_sample_utf-8.csv\",encoding=\"utf-8\")\n",
    "df"
   ]
  },
  {
   "cell_type": "code",
   "execution_count": 60,
   "metadata": {},
   "outputs": [
    {
     "data": {
      "text/plain": [
       "clinical_text       object\n",
       "positive_symptom    object\n",
       "negative_symptom    object\n",
       "past_history        object\n",
       "dtype: object"
      ]
     },
     "execution_count": 60,
     "metadata": {},
     "output_type": "execute_result"
    }
   ],
   "source": [
    "df.dtypes\n",
    "# object型 ≒ 文字型"
   ]
  },
  {
   "cell_type": "code",
   "execution_count": 62,
   "metadata": {},
   "outputs": [
    {
     "data": {
      "text/plain": [
       "0          今朝から突然の腰痛があり、吐き始めた。お腹の痛みなし。既往歴に、尿路結石、1型糖尿病。\n",
       "1                      昨日から腹痛があり、本日発熱あり。嘔気あったが、吐かなかった。\n",
       "2    3日前から体のだるさがあったが、熱はなかった。本日は息苦しさがあり、一度吐いたが、気分はよく...\n",
       "3         4週間前から咳、痰が続いている。熱(-), 鼻汁(-)\\n既往歴: 緩徐進行型1型糖尿病\n",
       "Name: clinical_text, dtype: object"
      ]
     },
     "execution_count": 62,
     "metadata": {},
     "output_type": "execute_result"
    }
   ],
   "source": [
    "df.loc[:,\"clinical_text\"]"
   ]
  },
  {
   "cell_type": "code",
   "execution_count": 63,
   "metadata": {},
   "outputs": [],
   "source": [
    "# 列をコピー\n",
    "df.loc[:,\"clinical_text2\"] = df.loc[:,\"clinical_text\"]"
   ]
  },
  {
   "cell_type": "code",
   "execution_count": 64,
   "metadata": {},
   "outputs": [
    {
     "data": {
      "text/html": [
       "<div>\n",
       "<style scoped>\n",
       "    .dataframe tbody tr th:only-of-type {\n",
       "        vertical-align: middle;\n",
       "    }\n",
       "\n",
       "    .dataframe tbody tr th {\n",
       "        vertical-align: top;\n",
       "    }\n",
       "\n",
       "    .dataframe thead th {\n",
       "        text-align: right;\n",
       "    }\n",
       "</style>\n",
       "<table border=\"1\" class=\"dataframe\">\n",
       "  <thead>\n",
       "    <tr style=\"text-align: right;\">\n",
       "      <th></th>\n",
       "      <th>clinical_text</th>\n",
       "      <th>positive_symptom</th>\n",
       "      <th>negative_symptom</th>\n",
       "      <th>past_history</th>\n",
       "      <th>clinical_text2</th>\n",
       "    </tr>\n",
       "  </thead>\n",
       "  <tbody>\n",
       "    <tr>\n",
       "      <th>0</th>\n",
       "      <td>今朝から突然の腰痛があり、吐き始めた。お腹の痛みなし。既往歴に、尿路結石、1型糖尿病。</td>\n",
       "      <td>腰痛,嘔吐</td>\n",
       "      <td>腹痛</td>\n",
       "      <td>尿路結石,2型糖尿病</td>\n",
       "      <td>今朝から突然の腰痛があり、吐き始めた。お腹の痛みなし。既往歴に、尿路結石、1型糖尿病。</td>\n",
       "    </tr>\n",
       "    <tr>\n",
       "      <th>1</th>\n",
       "      <td>昨日から腹痛があり、本日発熱あり。嘔気あったが、吐かなかった。</td>\n",
       "      <td>腹痛,発熱,嘔気</td>\n",
       "      <td>嘔吐</td>\n",
       "      <td>NaN</td>\n",
       "      <td>昨日から腹痛があり、本日発熱あり。嘔気あったが、吐かなかった。</td>\n",
       "    </tr>\n",
       "    <tr>\n",
       "      <th>2</th>\n",
       "      <td>3日前から体のだるさがあったが、熱はなかった。本日は息苦しさがあり、一度吐いたが、気分はよく...</td>\n",
       "      <td>倦怠感,呼吸苦,嘔吐</td>\n",
       "      <td>発熱</td>\n",
       "      <td>気管支喘息,糖尿病</td>\n",
       "      <td>3日前から体のだるさがあったが、熱はなかった。本日は息苦しさがあり、一度吐いたが、気分はよく...</td>\n",
       "    </tr>\n",
       "    <tr>\n",
       "      <th>3</th>\n",
       "      <td>4週間前から咳、痰が続いている。熱(-), 鼻汁(-)\\n既往歴: 緩徐進行型1型糖尿病</td>\n",
       "      <td>咳嗽,喀痰</td>\n",
       "      <td>発熱,鼻汁</td>\n",
       "      <td>緩徐進行型1型糖尿病</td>\n",
       "      <td>4週間前から咳、痰が続いている。熱(-), 鼻汁(-)\\n既往歴: 緩徐進行型1型糖尿病</td>\n",
       "    </tr>\n",
       "  </tbody>\n",
       "</table>\n",
       "</div>"
      ],
      "text/plain": [
       "                                       clinical_text positive_symptom  \\\n",
       "0        今朝から突然の腰痛があり、吐き始めた。お腹の痛みなし。既往歴に、尿路結石、1型糖尿病。            腰痛,嘔吐   \n",
       "1                    昨日から腹痛があり、本日発熱あり。嘔気あったが、吐かなかった。         腹痛,発熱,嘔気   \n",
       "2  3日前から体のだるさがあったが、熱はなかった。本日は息苦しさがあり、一度吐いたが、気分はよく...       倦怠感,呼吸苦,嘔吐   \n",
       "3       4週間前から咳、痰が続いている。熱(-), 鼻汁(-)\\n既往歴: 緩徐進行型1型糖尿病            咳嗽,喀痰   \n",
       "\n",
       "  negative_symptom past_history  \\\n",
       "0               腹痛   尿路結石,2型糖尿病   \n",
       "1               嘔吐          NaN   \n",
       "2               発熱    気管支喘息,糖尿病   \n",
       "3            発熱,鼻汁   緩徐進行型1型糖尿病   \n",
       "\n",
       "                                      clinical_text2  \n",
       "0        今朝から突然の腰痛があり、吐き始めた。お腹の痛みなし。既往歴に、尿路結石、1型糖尿病。  \n",
       "1                    昨日から腹痛があり、本日発熱あり。嘔気あったが、吐かなかった。  \n",
       "2  3日前から体のだるさがあったが、熱はなかった。本日は息苦しさがあり、一度吐いたが、気分はよく...  \n",
       "3       4週間前から咳、痰が続いている。熱(-), 鼻汁(-)\\n既往歴: 緩徐進行型1型糖尿病  "
      ]
     },
     "execution_count": 64,
     "metadata": {},
     "output_type": "execute_result"
    }
   ],
   "source": [
    "df"
   ]
  }
 ],
 "metadata": {
  "kernelspec": {
   "display_name": "Python 3",
   "language": "python",
   "name": "python3"
  },
  "language_info": {
   "codemirror_mode": {
    "name": "ipython",
    "version": 3
   },
   "file_extension": ".py",
   "mimetype": "text/x-python",
   "name": "python",
   "nbconvert_exporter": "python",
   "pygments_lexer": "ipython3",
   "version": "3.7.3"
  }
 },
 "nbformat": 4,
 "nbformat_minor": 2
}
